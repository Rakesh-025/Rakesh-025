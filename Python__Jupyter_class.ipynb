{
  "cells": [
    {
      "cell_type": "markdown",
      "metadata": {
        "id": "view-in-github",
        "colab_type": "text"
      },
      "source": [
        "<a href=\"https://colab.research.google.com/github/Rakesh-025/Rakesh-025/blob/main/Python__Jupyter_class.ipynb\" target=\"_parent\"><img src=\"https://colab.research.google.com/assets/colab-badge.svg\" alt=\"Open In Colab\"/></a>"
      ]
    },
    {
      "cell_type": "code",
      "execution_count": null,
      "id": "84d7b20f",
      "metadata": {
        "id": "84d7b20f"
      },
      "outputs": [],
      "source": [
        "alist = [123,\"ans\",\"2waj\"]\n",
        "blist = [423,\"ARtua\", \"hsdgs\"]"
      ]
    },
    {
      "cell_type": "code",
      "execution_count": null,
      "id": "7d9ba3b5",
      "metadata": {
        "id": "7d9ba3b5",
        "outputId": "8d24b866-569e-4a8c-ce65-5842871eec80"
      },
      "outputs": [
        {
          "data": {
            "text/plain": [
              "[123, 'ans', '2waj']"
            ]
          },
          "execution_count": 3,
          "metadata": {},
          "output_type": "execute_result"
        }
      ],
      "source": [
        "alist"
      ]
    },
    {
      "cell_type": "code",
      "execution_count": null,
      "id": "b597cdf0",
      "metadata": {
        "id": "b597cdf0",
        "outputId": "aa3a0c4b-a564-4c51-d3c6-e40f7bd1aed4"
      },
      "outputs": [
        {
          "data": {
            "text/plain": [
              "[123,\n",
              " 'ans',\n",
              " '2waj',\n",
              " 423,\n",
              " 'ARtua',\n",
              " 'hsdgs',\n",
              " 423,\n",
              " 'ARtua',\n",
              " 'hsdgs',\n",
              " [423, 'ARtua', 'hsdgs'],\n",
              " 423,\n",
              " 'ARtua',\n",
              " 'hsdgs']"
            ]
          },
          "execution_count": 7,
          "metadata": {},
          "output_type": "execute_result"
        }
      ],
      "source": [
        "alist.extend(blist)\n",
        "alist"
      ]
    },
    {
      "cell_type": "code",
      "execution_count": null,
      "id": "2f9f7c9c",
      "metadata": {
        "id": "2f9f7c9c"
      },
      "outputs": [],
      "source": [
        "alist.append(blist)"
      ]
    },
    {
      "cell_type": "code",
      "execution_count": null,
      "id": "73a3e8ba",
      "metadata": {
        "id": "73a3e8ba",
        "outputId": "e1fc0691-3b87-480b-c148-f1920468f252"
      },
      "outputs": [
        {
          "data": {
            "text/plain": [
              "[123,\n",
              " 'ans',\n",
              " '2waj',\n",
              " 423,\n",
              " 'ARtua',\n",
              " 'hsdgs',\n",
              " 423,\n",
              " 'ARtua',\n",
              " 'hsdgs',\n",
              " [423, 'ARtua', 'hsdgs'],\n",
              " 423,\n",
              " 'ARtua']"
            ]
          },
          "execution_count": 8,
          "metadata": {},
          "output_type": "execute_result"
        }
      ],
      "source": [
        "alist.pop()\n",
        "alist"
      ]
    },
    {
      "cell_type": "code",
      "execution_count": null,
      "id": "c1e52846",
      "metadata": {
        "id": "c1e52846",
        "outputId": "2c3b5cb5-90e5-4f08-9086-97d6169862bc"
      },
      "outputs": [
        {
          "data": {
            "text/plain": [
              "[123,\n",
              " 'ans',\n",
              " '2waj',\n",
              " 'ARtua',\n",
              " 'hsdgs',\n",
              " 'ARtua',\n",
              " 'hsdgs',\n",
              " [423, 'ARtua', 'hsdgs'],\n",
              " 423,\n",
              " 'ARtua']"
            ]
          },
          "execution_count": 10,
          "metadata": {},
          "output_type": "execute_result"
        }
      ],
      "source": [
        "alist.remove(423)\n",
        "alist"
      ]
    },
    {
      "cell_type": "code",
      "execution_count": null,
      "id": "817074bf",
      "metadata": {
        "id": "817074bf",
        "outputId": "bd8111bd-88bb-4e9a-9c4f-acfdf6c63a1b"
      },
      "outputs": [
        {
          "ename": "NameError",
          "evalue": "name 'Insert' is not defined",
          "output_type": "error",
          "traceback": [
            "\u001b[1;31m---------------------------------------------------------------------------\u001b[0m",
            "\u001b[1;31mNameError\u001b[0m                                 Traceback (most recent call last)",
            "\u001b[1;32m~\\AppData\\Local\\Temp/ipykernel_19160/1002381258.py\u001b[0m in \u001b[0;36m<module>\u001b[1;34m\u001b[0m\n\u001b[1;32m----> 1\u001b[1;33m \u001b[0mInsert\u001b[0m\u001b[1;33m.\u001b[0m\u001b[0malist\u001b[0m\u001b[1;33m(\u001b[0m\u001b[1;36m3\u001b[0m\u001b[1;33m,\u001b[0m\u001b[1;36m423\u001b[0m\u001b[1;33m)\u001b[0m\u001b[1;33m\u001b[0m\u001b[1;33m\u001b[0m\u001b[0m\n\u001b[0m",
            "\u001b[1;31mNameError\u001b[0m: name 'Insert' is not defined"
          ]
        }
      ],
      "source": [
        "Insert.alist(3,423)"
      ]
    },
    {
      "cell_type": "code",
      "execution_count": null,
      "id": "a9fefe7a",
      "metadata": {
        "id": "a9fefe7a",
        "outputId": "feb4a983-acb1-4da5-8771-294e2283b4a2"
      },
      "outputs": [
        {
          "data": {
            "text/plain": [
              "[123,\n",
              " 'ans',\n",
              " '2waj',\n",
              " 423,\n",
              " 423,\n",
              " 'ARtua',\n",
              " 'hsdgs',\n",
              " 'ARtua',\n",
              " 'hsdgs',\n",
              " [423, 'ARtua', 'hsdgs'],\n",
              " 423,\n",
              " 'ARtua']"
            ]
          },
          "execution_count": 14,
          "metadata": {},
          "output_type": "execute_result"
        }
      ],
      "source": [
        "alist.insert(3,423)\n",
        "alist"
      ]
    },
    {
      "cell_type": "raw",
      "id": "65fe9dda",
      "metadata": {
        "id": "65fe9dda"
      },
      "source": [
        "alist.reverse()\n",
        "alist\n",
        "print(alist)"
      ]
    },
    {
      "cell_type": "code",
      "execution_count": null,
      "id": "482f26cc",
      "metadata": {
        "id": "482f26cc",
        "outputId": "d979453c-917a-4097-e629-d867f5102431"
      },
      "outputs": [
        {
          "name": "stdout",
          "output_type": "stream",
          "text": [
            "['ARtua', 423, [423, 'ARtua', 'hsdgs'], 'hsdgs', 'ARtua', 'hsdgs', 'ARtua', 423, 423, '2waj', 'ans', 123]\n",
            "[123, 'ans', '2waj', 423, 423, 'ARtua', 'hsdgs', 'ARtua', 'hsdgs', [423, 'ARtua', 'hsdgs'], 423, 'ARtua']\n"
          ]
        }
      ],
      "source": [
        "print(alist)\n",
        "alist.reverse()\n",
        "alist\n",
        "print(alist)"
      ]
    },
    {
      "cell_type": "code",
      "execution_count": null,
      "id": "3d88c15a",
      "metadata": {
        "id": "3d88c15a",
        "outputId": "eb9432d6-52d8-4deb-9e75-111ccacd02f4"
      },
      "outputs": [
        {
          "name": "stdout",
          "output_type": "stream",
          "text": [
            "[6, 4, 3, 2, 1]\n"
          ]
        }
      ],
      "source": [
        "clist = [2,4,1,6,3]\n",
        "clist.sort(reverse = True)\n",
        "print(clist)"
      ]
    },
    {
      "cell_type": "code",
      "execution_count": null,
      "id": "45c5cb27",
      "metadata": {
        "id": "45c5cb27",
        "outputId": "1bf7752c-6261-44ae-9bbe-5ed5e75e96fb"
      },
      "outputs": [
        {
          "data": {
            "text/plain": [
              "[6, 4, 3, 2, 1]"
            ]
          },
          "execution_count": 20,
          "metadata": {},
          "output_type": "execute_result"
        }
      ],
      "source": [
        "clist"
      ]
    },
    {
      "cell_type": "code",
      "execution_count": null,
      "id": "f4efb91d",
      "metadata": {
        "id": "f4efb91d",
        "outputId": "fde26f1a-f808-4b7e-c4f6-bb824ad8a8f9"
      },
      "outputs": [
        {
          "name": "stdout",
          "output_type": "stream",
          "text": [
            "[1, 2, 3, 4, 6]\n"
          ]
        }
      ],
      "source": [
        "sorted_list = sorted(clist)\n",
        "sorted_list\n",
        "print(sorted_list)"
      ]
    },
    {
      "cell_type": "code",
      "execution_count": null,
      "id": "ac0fe6ae",
      "metadata": {
        "id": "ac0fe6ae",
        "outputId": "789ef01b-d09e-4ab6-b5e1-31ef458bc9bd"
      },
      "outputs": [
        {
          "ename": "TypeError",
          "evalue": "list.count() takes exactly one argument (0 given)",
          "output_type": "error",
          "traceback": [
            "\u001b[1;31m---------------------------------------------------------------------------\u001b[0m",
            "\u001b[1;31mTypeError\u001b[0m                                 Traceback (most recent call last)",
            "\u001b[1;32m~\\AppData\\Local\\Temp/ipykernel_19160/772686231.py\u001b[0m in \u001b[0;36m<module>\u001b[1;34m\u001b[0m\n\u001b[1;32m----> 1\u001b[1;33m \u001b[0mprint\u001b[0m\u001b[1;33m(\u001b[0m\u001b[0mclist\u001b[0m\u001b[1;33m.\u001b[0m\u001b[0mcount\u001b[0m\u001b[1;33m(\u001b[0m\u001b[1;33m)\u001b[0m\u001b[1;33m)\u001b[0m\u001b[1;33m\u001b[0m\u001b[1;33m\u001b[0m\u001b[0m\n\u001b[0m",
            "\u001b[1;31mTypeError\u001b[0m: list.count() takes exactly one argument (0 given)"
          ]
        }
      ],
      "source": [
        "print(clist.count())"
      ]
    },
    {
      "cell_type": "code",
      "execution_count": null,
      "id": "9a32f825",
      "metadata": {
        "id": "9a32f825",
        "outputId": "bbbc42f5-5d2e-4a64-ab50-3f10670b0a32"
      },
      "outputs": [
        {
          "data": {
            "text/plain": [
              "[6, 4, 3, 2, 1]"
            ]
          },
          "execution_count": 24,
          "metadata": {},
          "output_type": "execute_result"
        }
      ],
      "source": [
        "clist"
      ]
    },
    {
      "cell_type": "code",
      "execution_count": null,
      "id": "adf23a20",
      "metadata": {
        "id": "adf23a20",
        "outputId": "30fef97b-a16d-4456-9d2a-509032433934"
      },
      "outputs": [
        {
          "ename": "NameError",
          "evalue": "name 'count' is not defined",
          "output_type": "error",
          "traceback": [
            "\u001b[1;31m---------------------------------------------------------------------------\u001b[0m",
            "\u001b[1;31mNameError\u001b[0m                                 Traceback (most recent call last)",
            "\u001b[1;32m~\\AppData\\Local\\Temp/ipykernel_19160/625034561.py\u001b[0m in \u001b[0;36m<module>\u001b[1;34m\u001b[0m\n\u001b[1;32m----> 1\u001b[1;33m \u001b[0mcount\u001b[0m\u001b[1;33m.\u001b[0m\u001b[0mclist\u001b[0m\u001b[1;33m(\u001b[0m\u001b[1;33m)\u001b[0m\u001b[1;33m\u001b[0m\u001b[1;33m\u001b[0m\u001b[0m\n\u001b[0m",
            "\u001b[1;31mNameError\u001b[0m: name 'count' is not defined"
          ]
        }
      ],
      "source": [
        "count.clist()"
      ]
    },
    {
      "cell_type": "code",
      "execution_count": null,
      "id": "b15a8015",
      "metadata": {
        "id": "b15a8015",
        "outputId": "b828e716-2c1f-42e9-b0a0-f8c5dc4f7740"
      },
      "outputs": [
        {
          "data": {
            "text/plain": [
              "1"
            ]
          },
          "execution_count": 29,
          "metadata": {},
          "output_type": "execute_result"
        }
      ],
      "source": [
        "clist.count(1)"
      ]
    },
    {
      "cell_type": "code",
      "execution_count": null,
      "id": "cf9075f7",
      "metadata": {
        "id": "cf9075f7",
        "outputId": "b7bbe78d-647f-42fd-db54-6b8e37fb6656"
      },
      "outputs": [
        {
          "data": {
            "text/plain": [
              "[6, 4, 3, 2, 1]"
            ]
          },
          "execution_count": 31,
          "metadata": {},
          "output_type": "execute_result"
        }
      ],
      "source": [
        "clist"
      ]
    },
    {
      "cell_type": "code",
      "execution_count": null,
      "id": "eec27165",
      "metadata": {
        "id": "eec27165",
        "outputId": "d9039948-30fc-4480-eb76-a3d361692f06"
      },
      "outputs": [
        {
          "data": {
            "text/plain": [
              "3"
            ]
          },
          "execution_count": 32,
          "metadata": {},
          "output_type": "execute_result"
        }
      ],
      "source": [
        "dlist = [5,2,8,5,1,2,85,5]\n",
        "dlist.count(5)"
      ]
    },
    {
      "cell_type": "code",
      "execution_count": null,
      "id": "ac65cd48",
      "metadata": {
        "id": "ac65cd48",
        "outputId": "e8b6a30e-c3b0-459f-a405-d3db7715d576"
      },
      "outputs": [
        {
          "data": {
            "text/plain": [
              "4"
            ]
          },
          "execution_count": 34,
          "metadata": {},
          "output_type": "execute_result"
        }
      ],
      "source": [
        "dlist.index(1)"
      ]
    },
    {
      "cell_type": "code",
      "execution_count": null,
      "id": "114bc948",
      "metadata": {
        "id": "114bc948",
        "outputId": "aa999dee-764b-4d57-f755-898d4f28da45"
      },
      "outputs": [
        {
          "name": "stdout",
          "output_type": "stream",
          "text": [
            "Help on class list in module builtins:\n",
            "\n",
            "class list(object)\n",
            " |  list(iterable=(), /)\n",
            " |  \n",
            " |  Built-in mutable sequence.\n",
            " |  \n",
            " |  If no argument is given, the constructor creates a new empty list.\n",
            " |  The argument must be an iterable if specified.\n",
            " |  \n",
            " |  Methods defined here:\n",
            " |  \n",
            " |  __add__(self, value, /)\n",
            " |      Return self+value.\n",
            " |  \n",
            " |  __contains__(self, key, /)\n",
            " |      Return key in self.\n",
            " |  \n",
            " |  __delitem__(self, key, /)\n",
            " |      Delete self[key].\n",
            " |  \n",
            " |  __eq__(self, value, /)\n",
            " |      Return self==value.\n",
            " |  \n",
            " |  __ge__(self, value, /)\n",
            " |      Return self>=value.\n",
            " |  \n",
            " |  __getattribute__(self, name, /)\n",
            " |      Return getattr(self, name).\n",
            " |  \n",
            " |  __getitem__(...)\n",
            " |      x.__getitem__(y) <==> x[y]\n",
            " |  \n",
            " |  __gt__(self, value, /)\n",
            " |      Return self>value.\n",
            " |  \n",
            " |  __iadd__(self, value, /)\n",
            " |      Implement self+=value.\n",
            " |  \n",
            " |  __imul__(self, value, /)\n",
            " |      Implement self*=value.\n",
            " |  \n",
            " |  __init__(self, /, *args, **kwargs)\n",
            " |      Initialize self.  See help(type(self)) for accurate signature.\n",
            " |  \n",
            " |  __iter__(self, /)\n",
            " |      Implement iter(self).\n",
            " |  \n",
            " |  __le__(self, value, /)\n",
            " |      Return self<=value.\n",
            " |  \n",
            " |  __len__(self, /)\n",
            " |      Return len(self).\n",
            " |  \n",
            " |  __lt__(self, value, /)\n",
            " |      Return self<value.\n",
            " |  \n",
            " |  __mul__(self, value, /)\n",
            " |      Return self*value.\n",
            " |  \n",
            " |  __ne__(self, value, /)\n",
            " |      Return self!=value.\n",
            " |  \n",
            " |  __repr__(self, /)\n",
            " |      Return repr(self).\n",
            " |  \n",
            " |  __reversed__(self, /)\n",
            " |      Return a reverse iterator over the list.\n",
            " |  \n",
            " |  __rmul__(self, value, /)\n",
            " |      Return value*self.\n",
            " |  \n",
            " |  __setitem__(self, key, value, /)\n",
            " |      Set self[key] to value.\n",
            " |  \n",
            " |  __sizeof__(self, /)\n",
            " |      Return the size of the list in memory, in bytes.\n",
            " |  \n",
            " |  append(self, object, /)\n",
            " |      Append object to the end of the list.\n",
            " |  \n",
            " |  clear(self, /)\n",
            " |      Remove all items from list.\n",
            " |  \n",
            " |  copy(self, /)\n",
            " |      Return a shallow copy of the list.\n",
            " |  \n",
            " |  count(self, value, /)\n",
            " |      Return number of occurrences of value.\n",
            " |  \n",
            " |  extend(self, iterable, /)\n",
            " |      Extend list by appending elements from the iterable.\n",
            " |  \n",
            " |  index(self, value, start=0, stop=9223372036854775807, /)\n",
            " |      Return first index of value.\n",
            " |      \n",
            " |      Raises ValueError if the value is not present.\n",
            " |  \n",
            " |  insert(self, index, object, /)\n",
            " |      Insert object before index.\n",
            " |  \n",
            " |  pop(self, index=-1, /)\n",
            " |      Remove and return item at index (default last).\n",
            " |      \n",
            " |      Raises IndexError if list is empty or index is out of range.\n",
            " |  \n",
            " |  remove(self, value, /)\n",
            " |      Remove first occurrence of value.\n",
            " |      \n",
            " |      Raises ValueError if the value is not present.\n",
            " |  \n",
            " |  reverse(self, /)\n",
            " |      Reverse *IN PLACE*.\n",
            " |  \n",
            " |  sort(self, /, *, key=None, reverse=False)\n",
            " |      Sort the list in ascending order and return None.\n",
            " |      \n",
            " |      The sort is in-place (i.e. the list itself is modified) and stable (i.e. the\n",
            " |      order of two equal elements is maintained).\n",
            " |      \n",
            " |      If a key function is given, apply it once to each list item and sort them,\n",
            " |      ascending or descending, according to their function values.\n",
            " |      \n",
            " |      The reverse flag can be set to sort in descending order.\n",
            " |  \n",
            " |  ----------------------------------------------------------------------\n",
            " |  Class methods defined here:\n",
            " |  \n",
            " |  __class_getitem__(...) from builtins.type\n",
            " |      See PEP 585\n",
            " |  \n",
            " |  ----------------------------------------------------------------------\n",
            " |  Static methods defined here:\n",
            " |  \n",
            " |  __new__(*args, **kwargs) from builtins.type\n",
            " |      Create and return a new object.  See help(type) for accurate signature.\n",
            " |  \n",
            " |  ----------------------------------------------------------------------\n",
            " |  Data and other attributes defined here:\n",
            " |  \n",
            " |  __hash__ = None\n",
            "\n"
          ]
        }
      ],
      "source": [
        "help(list)"
      ]
    },
    {
      "cell_type": "code",
      "execution_count": null,
      "id": "85e49707",
      "metadata": {
        "id": "85e49707",
        "outputId": "d3562c46-32b5-490b-b762-afbb6a850b95"
      },
      "outputs": [
        {
          "name": "stdout",
          "output_type": "stream",
          "text": [
            "85\n",
            "1\n",
            "8\n"
          ]
        }
      ],
      "source": [
        "dlist.sort()\n",
        "print(max(dlist))\n",
        "print(min(dlist))\n",
        "print(len(dlist))\n"
      ]
    },
    {
      "cell_type": "code",
      "execution_count": null,
      "id": "96ee0247",
      "metadata": {
        "id": "96ee0247",
        "outputId": "885cb1a6-da2d-4c7d-a101-d0f2a28f2859"
      },
      "outputs": [
        {
          "data": {
            "text/plain": [
              "[1, 2, 2, 5, 5, 5, 8, 85]"
            ]
          },
          "execution_count": 38,
          "metadata": {},
          "output_type": "execute_result"
        }
      ],
      "source": [
        "dlist.sort()\n",
        "dlist"
      ]
    },
    {
      "cell_type": "code",
      "execution_count": null,
      "id": "1bc685ca",
      "metadata": {
        "id": "1bc685ca",
        "outputId": "12d6c2d9-3d2a-43a8-e691-edc8d39f6eec"
      },
      "outputs": [
        {
          "name": "stdout",
          "output_type": "stream",
          "text": [
            "['sf', 'adc', 'sdfj', 'qsdhf']\n"
          ]
        }
      ],
      "source": [
        "ds = ['adc','sdfj','sf','qsdhf']\n",
        "print(sorted(ds, key = len))"
      ]
    },
    {
      "cell_type": "code",
      "execution_count": null,
      "id": "5fea8df3",
      "metadata": {
        "id": "5fea8df3",
        "outputId": "8f28f211-b319-45fe-88e3-29eb92fccfac"
      },
      "outputs": [
        {
          "data": {
            "text/plain": [
              "'qsdhf'"
            ]
          },
          "execution_count": 46,
          "metadata": {},
          "output_type": "execute_result"
        }
      ],
      "source": [
        "ds = ['adc','sdfj','sf','qsdhf']\n",
        "\n",
        "def fun1(l):\n",
        "    \n",
        "    return l[-1]\n",
        "fun1(ds)"
      ]
    },
    {
      "cell_type": "code",
      "execution_count": null,
      "id": "b9b4371c",
      "metadata": {
        "id": "b9b4371c",
        "outputId": "307ba8cf-d50f-4f94-e8cc-5fb113675df9"
      },
      "outputs": [
        {
          "name": "stdout",
          "output_type": "stream",
          "text": [
            "['adc', 'qsdhf', 'sdfj', 'sf']\n"
          ]
        }
      ],
      "source": [
        "ds = ['adc','sdfj','sf','qsdhf']\n",
        "print(sorted(ds))"
      ]
    },
    {
      "cell_type": "code",
      "execution_count": null,
      "id": "a3b7380f",
      "metadata": {
        "id": "a3b7380f",
        "outputId": "ba174071-b99f-4d87-abdd-cdff508ad002"
      },
      "outputs": [
        {
          "name": "stdout",
          "output_type": "stream",
          "text": [
            "['adc', 'sf', 'qsdhf', 'sdfj']\n"
          ]
        }
      ],
      "source": [
        "print(sorted(ds, key = fun1))"
      ]
    },
    {
      "cell_type": "code",
      "execution_count": null,
      "id": "35307eed",
      "metadata": {
        "id": "35307eed",
        "outputId": "d7d92054-9345-43ff-bd34-13a6c939c245"
      },
      "outputs": [
        {
          "data": {
            "text/plain": [
              "(1, 2, 3, 4, 5)"
            ]
          },
          "execution_count": 49,
          "metadata": {},
          "output_type": "execute_result"
        }
      ],
      "source": [
        "###########################   TUPLES    ######################################################\n",
        "\n",
        "tup1 = ('cbd','hbsd', 5312)\n",
        "tup2 = (1,2,3,4,5)\n",
        "tup1\n",
        "tup2"
      ]
    },
    {
      "cell_type": "code",
      "execution_count": null,
      "id": "37402bb2",
      "metadata": {
        "id": "37402bb2",
        "outputId": "91826571-1950-468d-f12a-9d788b26a8ab"
      },
      "outputs": [
        {
          "data": {
            "text/plain": [
              "1806764035840"
            ]
          },
          "execution_count": 50,
          "metadata": {},
          "output_type": "execute_result"
        }
      ],
      "source": [
        "id(tup1)"
      ]
    },
    {
      "cell_type": "code",
      "execution_count": null,
      "id": "e77e0e0a",
      "metadata": {
        "id": "e77e0e0a",
        "outputId": "53facb9a-3b9f-4274-c10b-09c0a08ddcac"
      },
      "outputs": [
        {
          "data": {
            "text/plain": [
              "(32,)"
            ]
          },
          "execution_count": 51,
          "metadata": {},
          "output_type": "execute_result"
        }
      ],
      "source": [
        "tup3 = (32,)\n",
        "tup3\n"
      ]
    },
    {
      "cell_type": "code",
      "execution_count": null,
      "id": "6d7a0e79",
      "metadata": {
        "id": "6d7a0e79",
        "outputId": "db18b3e1-712a-43a9-da59-7a38f6c5e101"
      },
      "outputs": [
        {
          "data": {
            "text/plain": [
              "tuple"
            ]
          },
          "execution_count": 52,
          "metadata": {},
          "output_type": "execute_result"
        }
      ],
      "source": [
        "type(tup3)"
      ]
    },
    {
      "cell_type": "code",
      "execution_count": null,
      "id": "6b04ed7d",
      "metadata": {
        "id": "6b04ed7d",
        "outputId": "a702598d-0ee5-4733-8fa1-2a5aed30a95e"
      },
      "outputs": [
        {
          "name": "stdout",
          "output_type": "stream",
          "text": [
            "hbsd\n",
            "(2, 3, 4)\n"
          ]
        }
      ],
      "source": [
        "\n",
        "tup1 = ('cbd','hbsd', 5312)\n",
        "\n",
        "tup2 = (1,2,3,4,5)\n",
        "\n",
        "print(tup1[-2])\n",
        "\n",
        "print(tup2[1:4])"
      ]
    },
    {
      "cell_type": "markdown",
      "id": "ff324d6b",
      "metadata": {
        "id": "ff324d6b"
      },
      "source": [
        "help(tuple)"
      ]
    },
    {
      "cell_type": "code",
      "execution_count": null,
      "id": "90a794c9",
      "metadata": {
        "id": "90a794c9",
        "outputId": "759a56d2-a1d3-4736-9109-f9a62980bd3a"
      },
      "outputs": [
        {
          "name": "stdout",
          "output_type": "stream",
          "text": [
            "Help on class tuple in module builtins:\n",
            "\n",
            "class tuple(object)\n",
            " |  tuple(iterable=(), /)\n",
            " |  \n",
            " |  Built-in immutable sequence.\n",
            " |  \n",
            " |  If no argument is given, the constructor returns an empty tuple.\n",
            " |  If iterable is specified the tuple is initialized from iterable's items.\n",
            " |  \n",
            " |  If the argument is a tuple, the return value is the same object.\n",
            " |  \n",
            " |  Built-in subclasses:\n",
            " |      asyncgen_hooks\n",
            " |      UnraisableHookArgs\n",
            " |  \n",
            " |  Methods defined here:\n",
            " |  \n",
            " |  __add__(self, value, /)\n",
            " |      Return self+value.\n",
            " |  \n",
            " |  __contains__(self, key, /)\n",
            " |      Return key in self.\n",
            " |  \n",
            " |  __eq__(self, value, /)\n",
            " |      Return self==value.\n",
            " |  \n",
            " |  __ge__(self, value, /)\n",
            " |      Return self>=value.\n",
            " |  \n",
            " |  __getattribute__(self, name, /)\n",
            " |      Return getattr(self, name).\n",
            " |  \n",
            " |  __getitem__(self, key, /)\n",
            " |      Return self[key].\n",
            " |  \n",
            " |  __getnewargs__(self, /)\n",
            " |  \n",
            " |  __gt__(self, value, /)\n",
            " |      Return self>value.\n",
            " |  \n",
            " |  __hash__(self, /)\n",
            " |      Return hash(self).\n",
            " |  \n",
            " |  __iter__(self, /)\n",
            " |      Implement iter(self).\n",
            " |  \n",
            " |  __le__(self, value, /)\n",
            " |      Return self<=value.\n",
            " |  \n",
            " |  __len__(self, /)\n",
            " |      Return len(self).\n",
            " |  \n",
            " |  __lt__(self, value, /)\n",
            " |      Return self<value.\n",
            " |  \n",
            " |  __mul__(self, value, /)\n",
            " |      Return self*value.\n",
            " |  \n",
            " |  __ne__(self, value, /)\n",
            " |      Return self!=value.\n",
            " |  \n",
            " |  __repr__(self, /)\n",
            " |      Return repr(self).\n",
            " |  \n",
            " |  __rmul__(self, value, /)\n",
            " |      Return value*self.\n",
            " |  \n",
            " |  count(self, value, /)\n",
            " |      Return number of occurrences of value.\n",
            " |  \n",
            " |  index(self, value, start=0, stop=9223372036854775807, /)\n",
            " |      Return first index of value.\n",
            " |      \n",
            " |      Raises ValueError if the value is not present.\n",
            " |  \n",
            " |  ----------------------------------------------------------------------\n",
            " |  Class methods defined here:\n",
            " |  \n",
            " |  __class_getitem__(...) from builtins.type\n",
            " |      See PEP 585\n",
            " |  \n",
            " |  ----------------------------------------------------------------------\n",
            " |  Static methods defined here:\n",
            " |  \n",
            " |  __new__(*args, **kwargs) from builtins.type\n",
            " |      Create and return a new object.  See help(type) for accurate signature.\n",
            "\n"
          ]
        }
      ],
      "source": [
        "help(tuple)"
      ]
    },
    {
      "cell_type": "code",
      "execution_count": null,
      "id": "dd481ddd",
      "metadata": {
        "id": "dd481ddd",
        "outputId": "a3fb01d4-ab06-41ec-a167-1352e35fddbe"
      },
      "outputs": [
        {
          "data": {
            "text/plain": [
              "{'A', 'C', 'S'}"
            ]
          },
          "execution_count": 59,
          "metadata": {},
          "output_type": "execute_result"
        }
      ],
      "source": [
        "##########   SETS AND FROZEN SETS ##################\n",
        "\n",
        "NORM = set(['A','S','C','A'])\n",
        "NORM"
      ]
    },
    {
      "cell_type": "markdown",
      "id": "5597c88b",
      "metadata": {
        "id": "5597c88b"
      },
      "source": [
        "NORM.add(\"D\")\n",
        "PRINT(NORM)"
      ]
    },
    {
      "cell_type": "code",
      "execution_count": null,
      "id": "d3cfc835",
      "metadata": {
        "id": "d3cfc835",
        "outputId": "2350e962-21da-406a-bef8-3bb3d830bc85"
      },
      "outputs": [
        {
          "name": "stdout",
          "output_type": "stream",
          "text": [
            "{'S', 'A', 'D', 'C'}\n"
          ]
        }
      ],
      "source": [
        "NORM.add(\"D\") \n",
        "print(NORM)"
      ]
    },
    {
      "cell_type": "code",
      "execution_count": null,
      "id": "dcce2681",
      "metadata": {
        "id": "dcce2681",
        "outputId": "4c9f1949-674b-4ecf-e4a2-29ecd067fa66"
      },
      "outputs": [
        {
          "data": {
            "text/plain": [
              "frozenset({'e', 'g', 'h'})"
            ]
          },
          "execution_count": 61,
          "metadata": {},
          "output_type": "execute_result"
        }
      ],
      "source": [
        "froze = frozenset(['e','g','h'])\n",
        "froze"
      ]
    },
    {
      "cell_type": "code",
      "execution_count": null,
      "id": "a97cbce4",
      "metadata": {
        "id": "a97cbce4",
        "outputId": "d7064257-54b8-4332-e735-40b997a01188"
      },
      "outputs": [
        {
          "ename": "AttributeError",
          "evalue": "'frozenset' object has no attribute 'add'",
          "output_type": "error",
          "traceback": [
            "\u001b[1;31m---------------------------------------------------------------------------\u001b[0m",
            "\u001b[1;31mAttributeError\u001b[0m                            Traceback (most recent call last)",
            "\u001b[1;32m~\\AppData\\Local\\Temp/ipykernel_19160/1304392802.py\u001b[0m in \u001b[0;36m<module>\u001b[1;34m\u001b[0m\n\u001b[1;32m----> 1\u001b[1;33m \u001b[0mfroze\u001b[0m\u001b[1;33m.\u001b[0m\u001b[0madd\u001b[0m\u001b[1;33m(\u001b[0m\u001b[1;34m\"J\"\u001b[0m\u001b[1;33m)\u001b[0m\u001b[1;33m\u001b[0m\u001b[1;33m\u001b[0m\u001b[0m\n\u001b[0m",
            "\u001b[1;31mAttributeError\u001b[0m: 'frozenset' object has no attribute 'add'"
          ]
        }
      ],
      "source": [
        "froze.add(\"J\")"
      ]
    },
    {
      "cell_type": "code",
      "execution_count": null,
      "id": "8ec60259",
      "metadata": {
        "id": "8ec60259",
        "outputId": "cfda69ea-7964-4b67-91c7-61c1858d3986"
      },
      "outputs": [
        {
          "name": "stdout",
          "output_type": "stream",
          "text": [
            "set() set()\n"
          ]
        }
      ],
      "source": [
        "#########  sets operations ##########\n",
        "\n",
        "set1 = set()\n",
        "set2 = set()\n",
        "\n",
        "print(set1,set2)"
      ]
    },
    {
      "cell_type": "code",
      "execution_count": null,
      "id": "3e140137",
      "metadata": {
        "id": "3e140137",
        "outputId": "bb64cb1d-bb3f-4ed1-8020-13e72f3b6eff"
      },
      "outputs": [
        {
          "data": {
            "text/plain": [
              "{1, 2, 3, 4, 5, 6, 7, 8, 9}"
            ]
          },
          "execution_count": 5,
          "metadata": {},
          "output_type": "execute_result"
        }
      ],
      "source": [
        "for i in range(1,10):\n",
        "    set1.add(i)\n",
        "    \n",
        "set1"
      ]
    },
    {
      "cell_type": "code",
      "execution_count": null,
      "id": "f81b7c17",
      "metadata": {
        "id": "f81b7c17",
        "outputId": "c943f137-87f4-4aff-f536-aaf4f1a29b00"
      },
      "outputs": [
        {
          "data": {
            "text/plain": [
              "{3, 4, 5, 6, 7, 8, 9}"
            ]
          },
          "execution_count": 6,
          "metadata": {},
          "output_type": "execute_result"
        }
      ],
      "source": [
        "for i in range(3,10):\n",
        "    set2.add(i)\n",
        "    \n",
        "set2"
      ]
    },
    {
      "cell_type": "code",
      "execution_count": null,
      "id": "d84c678e",
      "metadata": {
        "id": "d84c678e"
      },
      "outputs": [],
      "source": [
        "set3 = set1 | set2"
      ]
    },
    {
      "cell_type": "code",
      "execution_count": null,
      "id": "46dca5f1",
      "metadata": {
        "id": "46dca5f1",
        "outputId": "75f3d6b6-31c1-44c4-fafa-36d9c3cbe344"
      },
      "outputs": [
        {
          "data": {
            "text/plain": [
              "{1, 2, 3, 4, 5, 6, 7, 8, 9}"
            ]
          },
          "execution_count": 8,
          "metadata": {},
          "output_type": "execute_result"
        }
      ],
      "source": [
        "set3 = set1.union(set2)\n",
        "set3"
      ]
    },
    {
      "cell_type": "code",
      "execution_count": null,
      "id": "49a4c8e1",
      "metadata": {
        "id": "49a4c8e1",
        "outputId": "bc373ef4-31bf-49b7-a333-ded30c15f34b"
      },
      "outputs": [
        {
          "data": {
            "text/plain": [
              "{3, 4, 5, 6, 7, 8, 9}"
            ]
          },
          "execution_count": 9,
          "metadata": {},
          "output_type": "execute_result"
        }
      ],
      "source": [
        "set4 = set1 & set2\n",
        "set4"
      ]
    },
    {
      "cell_type": "raw",
      "id": "1c0c1bb6",
      "metadata": {
        "id": "1c0c1bb6"
      },
      "source": [
        "set4 = set1.intersection(set2)\n",
        "set4"
      ]
    },
    {
      "cell_type": "code",
      "execution_count": null,
      "id": "a9287005",
      "metadata": {
        "id": "a9287005",
        "outputId": "9c33259e-b811-4469-c2aa-793a1ab44d47"
      },
      "outputs": [
        {
          "name": "stdout",
          "output_type": "stream",
          "text": [
            "{3, 4, 5, 6, 7, 8, 9}\n"
          ]
        }
      ],
      "source": [
        "print(set4)"
      ]
    },
    {
      "cell_type": "code",
      "execution_count": null,
      "id": "e7e7c71f",
      "metadata": {
        "id": "e7e7c71f",
        "outputId": "66afeafc-bb3c-4e30-e26c-8fcf9e11a219"
      },
      "outputs": [
        {
          "name": "stdout",
          "output_type": "stream",
          "text": [
            "set3 is superset of set4\n"
          ]
        }
      ],
      "source": [
        "if set3 > set4:\n",
        "    print(\"set3 is superset of set4\")\n",
        "elif set3< set4:\n",
        "    print(\"set3 is subset of set4\")\n",
        "else :\n",
        "    print(\"set3 is same as set4\")"
      ]
    },
    {
      "cell_type": "code",
      "execution_count": null,
      "id": "48ffe6a3",
      "metadata": {
        "id": "48ffe6a3",
        "outputId": "1352a20e-4d1f-412d-ee32-73733b985db8"
      },
      "outputs": [
        {
          "data": {
            "text/plain": [
              "{1, 2}"
            ]
          },
          "execution_count": 12,
          "metadata": {},
          "output_type": "execute_result"
        }
      ],
      "source": [
        "set5 = set([1,2])\n",
        "set5"
      ]
    },
    {
      "cell_type": "code",
      "execution_count": null,
      "id": "52834ce3",
      "metadata": {
        "id": "52834ce3",
        "outputId": "7b67e407-1b80-4fb0-824c-7511ddacf50b"
      },
      "outputs": [
        {
          "name": "stdout",
          "output_type": "stream",
          "text": [
            "s\n"
          ]
        }
      ],
      "source": [
        "if set5.isdisjoint(set4):\n",
        "    print(\"s\")\n"
      ]
    },
    {
      "cell_type": "code",
      "execution_count": null,
      "id": "e6204505",
      "metadata": {
        "id": "e6204505",
        "outputId": "b13bd1ed-0868-4150-a48a-65ab1aac036a"
      },
      "outputs": [
        {
          "name": "stdout",
          "output_type": "stream",
          "text": [
            "Help on class set in module builtins:\n",
            "\n",
            "class set(object)\n",
            " |  set() -> new empty set object\n",
            " |  set(iterable) -> new set object\n",
            " |  \n",
            " |  Build an unordered collection of unique elements.\n",
            " |  \n",
            " |  Methods defined here:\n",
            " |  \n",
            " |  __and__(self, value, /)\n",
            " |      Return self&value.\n",
            " |  \n",
            " |  __contains__(...)\n",
            " |      x.__contains__(y) <==> y in x.\n",
            " |  \n",
            " |  __eq__(self, value, /)\n",
            " |      Return self==value.\n",
            " |  \n",
            " |  __ge__(self, value, /)\n",
            " |      Return self>=value.\n",
            " |  \n",
            " |  __getattribute__(self, name, /)\n",
            " |      Return getattr(self, name).\n",
            " |  \n",
            " |  __gt__(self, value, /)\n",
            " |      Return self>value.\n",
            " |  \n",
            " |  __iand__(self, value, /)\n",
            " |      Return self&=value.\n",
            " |  \n",
            " |  __init__(self, /, *args, **kwargs)\n",
            " |      Initialize self.  See help(type(self)) for accurate signature.\n",
            " |  \n",
            " |  __ior__(self, value, /)\n",
            " |      Return self|=value.\n",
            " |  \n",
            " |  __isub__(self, value, /)\n",
            " |      Return self-=value.\n",
            " |  \n",
            " |  __iter__(self, /)\n",
            " |      Implement iter(self).\n",
            " |  \n",
            " |  __ixor__(self, value, /)\n",
            " |      Return self^=value.\n",
            " |  \n",
            " |  __le__(self, value, /)\n",
            " |      Return self<=value.\n",
            " |  \n",
            " |  __len__(self, /)\n",
            " |      Return len(self).\n",
            " |  \n",
            " |  __lt__(self, value, /)\n",
            " |      Return self<value.\n",
            " |  \n",
            " |  __ne__(self, value, /)\n",
            " |      Return self!=value.\n",
            " |  \n",
            " |  __or__(self, value, /)\n",
            " |      Return self|value.\n",
            " |  \n",
            " |  __rand__(self, value, /)\n",
            " |      Return value&self.\n",
            " |  \n",
            " |  __reduce__(...)\n",
            " |      Return state information for pickling.\n",
            " |  \n",
            " |  __repr__(self, /)\n",
            " |      Return repr(self).\n",
            " |  \n",
            " |  __ror__(self, value, /)\n",
            " |      Return value|self.\n",
            " |  \n",
            " |  __rsub__(self, value, /)\n",
            " |      Return value-self.\n",
            " |  \n",
            " |  __rxor__(self, value, /)\n",
            " |      Return value^self.\n",
            " |  \n",
            " |  __sizeof__(...)\n",
            " |      S.__sizeof__() -> size of S in memory, in bytes\n",
            " |  \n",
            " |  __sub__(self, value, /)\n",
            " |      Return self-value.\n",
            " |  \n",
            " |  __xor__(self, value, /)\n",
            " |      Return self^value.\n",
            " |  \n",
            " |  add(...)\n",
            " |      Add an element to a set.\n",
            " |      \n",
            " |      This has no effect if the element is already present.\n",
            " |  \n",
            " |  clear(...)\n",
            " |      Remove all elements from this set.\n",
            " |  \n",
            " |  copy(...)\n",
            " |      Return a shallow copy of a set.\n",
            " |  \n",
            " |  difference(...)\n",
            " |      Return the difference of two or more sets as a new set.\n",
            " |      \n",
            " |      (i.e. all elements that are in this set but not the others.)\n",
            " |  \n",
            " |  difference_update(...)\n",
            " |      Remove all elements of another set from this set.\n",
            " |  \n",
            " |  discard(...)\n",
            " |      Remove an element from a set if it is a member.\n",
            " |      \n",
            " |      If the element is not a member, do nothing.\n",
            " |  \n",
            " |  intersection(...)\n",
            " |      Return the intersection of two sets as a new set.\n",
            " |      \n",
            " |      (i.e. all elements that are in both sets.)\n",
            " |  \n",
            " |  intersection_update(...)\n",
            " |      Update a set with the intersection of itself and another.\n",
            " |  \n",
            " |  isdisjoint(...)\n",
            " |      Return True if two sets have a null intersection.\n",
            " |  \n",
            " |  issubset(...)\n",
            " |      Report whether another set contains this set.\n",
            " |  \n",
            " |  issuperset(...)\n",
            " |      Report whether this set contains another set.\n",
            " |  \n",
            " |  pop(...)\n",
            " |      Remove and return an arbitrary set element.\n",
            " |      Raises KeyError if the set is empty.\n",
            " |  \n",
            " |  remove(...)\n",
            " |      Remove an element from a set; it must be a member.\n",
            " |      \n",
            " |      If the element is not a member, raise a KeyError.\n",
            " |  \n",
            " |  symmetric_difference(...)\n",
            " |      Return the symmetric difference of two sets as a new set.\n",
            " |      \n",
            " |      (i.e. all elements that are in exactly one of the sets.)\n",
            " |  \n",
            " |  symmetric_difference_update(...)\n",
            " |      Update a set with the symmetric difference of itself and another.\n",
            " |  \n",
            " |  union(...)\n",
            " |      Return the union of sets as a new set.\n",
            " |      \n",
            " |      (i.e. all elements that are in either set.)\n",
            " |  \n",
            " |  update(...)\n",
            " |      Update a set with the union of itself and others.\n",
            " |  \n",
            " |  ----------------------------------------------------------------------\n",
            " |  Class methods defined here:\n",
            " |  \n",
            " |  __class_getitem__(...) from builtins.type\n",
            " |      See PEP 585\n",
            " |  \n",
            " |  ----------------------------------------------------------------------\n",
            " |  Static methods defined here:\n",
            " |  \n",
            " |  __new__(*args, **kwargs) from builtins.type\n",
            " |      Create and return a new object.  See help(type) for accurate signature.\n",
            " |  \n",
            " |  ----------------------------------------------------------------------\n",
            " |  Data and other attributes defined here:\n",
            " |  \n",
            " |  __hash__ = None\n",
            "\n"
          ]
        }
      ],
      "source": [
        "help(set)"
      ]
    },
    {
      "cell_type": "code",
      "execution_count": null,
      "id": "286bee15",
      "metadata": {
        "id": "286bee15",
        "outputId": "79ac9531-54e4-4dee-ca1b-d8dcc40e46cd"
      },
      "outputs": [
        {
          "name": "stdout",
          "output_type": "stream",
          "text": [
            "{'name': 'Raki', 'age': '23'}\n",
            "Raki\n",
            "23\n"
          ]
        }
      ],
      "source": [
        "################ to create the dictionary ##################\n",
        "\n",
        "dict1 = {\"name\":\"Raki\",\"age\":\"23\"}\n",
        "print(dict1)\n",
        "print(dict1[\"name\"])\n",
        "print(dict1[\"age\"])"
      ]
    },
    {
      "cell_type": "code",
      "execution_count": null,
      "id": "4e1f9f1e",
      "metadata": {
        "id": "4e1f9f1e",
        "outputId": "68f43e6c-c9a3-424f-c911-a13a8f661480"
      },
      "outputs": [
        {
          "data": {
            "text/plain": [
              "{'name': 'Raki', 'age': 24}"
            ]
          },
          "execution_count": 17,
          "metadata": {},
          "output_type": "execute_result"
        }
      ],
      "source": [
        "###########    to update the values #########\n",
        "dict1 = {\"name\":\"Raki\",\"age\":\"23\"}\n",
        "dict1['age'] = 24\n",
        "dict1"
      ]
    },
    {
      "cell_type": "code",
      "execution_count": null,
      "id": "a8db3dd2",
      "metadata": {
        "id": "a8db3dd2",
        "outputId": "f7165434-eec4-4b0f-cc1c-7363fe19a981"
      },
      "outputs": [
        {
          "data": {
            "text/plain": [
              "{'name': 'Raki', 'age': 24, 'Bike': 'Apache'}"
            ]
          },
          "execution_count": 21,
          "metadata": {},
          "output_type": "execute_result"
        }
      ],
      "source": [
        "dict1[\"Bike\"]=\"Apache\"\n",
        "dict1"
      ]
    },
    {
      "cell_type": "code",
      "execution_count": null,
      "id": "d2bd7a6b",
      "metadata": {
        "id": "d2bd7a6b",
        "outputId": "50794353-9c1e-4958-da3a-93f844d009b8"
      },
      "outputs": [
        {
          "data": {
            "text/plain": [
              "{'name': 'Raki', 'age': 24, 'Bike': 'Apache', 'sal': '25k'}"
            ]
          },
          "execution_count": 23,
          "metadata": {},
          "output_type": "execute_result"
        }
      ],
      "source": [
        "###   to add a new entry #########\n",
        "dict1 [\"sal\"] = \"25k\"\n",
        "dict1"
      ]
    },
    {
      "cell_type": "code",
      "execution_count": null,
      "id": "e6db216e",
      "metadata": {
        "id": "e6db216e",
        "outputId": "8ba3585f-cbb5-4cb4-8526-2c4744be1821"
      },
      "outputs": [
        {
          "data": {
            "text/plain": [
              "{'age': 24, 'Bike': 'Apache', 'sal': '25k'}"
            ]
          },
          "execution_count": 24,
          "metadata": {},
          "output_type": "execute_result"
        }
      ],
      "source": [
        "#### to delete the key\n",
        "\n",
        "del(dict1['name'])\n",
        "dict1"
      ]
    },
    {
      "cell_type": "code",
      "execution_count": null,
      "id": "87b230f5",
      "metadata": {
        "id": "87b230f5"
      },
      "outputs": [],
      "source": [
        "######## to delete the entire dictionary\n",
        "\n",
        "dict1.clear()"
      ]
    },
    {
      "cell_type": "code",
      "execution_count": null,
      "id": "90f1fbfb",
      "metadata": {
        "id": "90f1fbfb",
        "outputId": "509a23f2-8244-4ada-b796-0d55dd759799"
      },
      "outputs": [
        {
          "data": {
            "text/plain": [
              "{}"
            ]
          },
          "execution_count": 26,
          "metadata": {},
          "output_type": "execute_result"
        }
      ],
      "source": [
        "dict1"
      ]
    },
    {
      "cell_type": "code",
      "execution_count": null,
      "id": "2cde59d6",
      "metadata": {
        "id": "2cde59d6",
        "outputId": "29b2769d-b603-4b79-998d-21ecdcbf5480"
      },
      "outputs": [
        {
          "data": {
            "text/plain": [
              "dict_items([('name', 'Raki'), ('age', '23')])"
            ]
          },
          "execution_count": 28,
          "metadata": {},
          "output_type": "execute_result"
        }
      ],
      "source": [
        "\n",
        "dict1 = {\"name\":\"Raki\",\"age\":\"23\"}\n",
        "\n",
        "\n",
        "dict1.items()"
      ]
    },
    {
      "cell_type": "code",
      "execution_count": null,
      "id": "a17dc77a",
      "metadata": {
        "id": "a17dc77a",
        "outputId": "4e7b81da-7653-4649-92bc-f058589569d8"
      },
      "outputs": [
        {
          "data": {
            "text/plain": [
              "dict_keys(['name', 'age'])"
            ]
          },
          "execution_count": 30,
          "metadata": {},
          "output_type": "execute_result"
        }
      ],
      "source": [
        "dict1.keys()"
      ]
    },
    {
      "cell_type": "code",
      "execution_count": null,
      "id": "8dc2a8f5",
      "metadata": {
        "id": "8dc2a8f5",
        "outputId": "009f117f-bd94-4716-d016-1b81ac86bd49"
      },
      "outputs": [
        {
          "data": {
            "text/plain": [
              "dict_values(['Raki', '23'])"
            ]
          },
          "execution_count": 31,
          "metadata": {},
          "output_type": "execute_result"
        }
      ],
      "source": [
        "dict1.values()"
      ]
    },
    {
      "cell_type": "code",
      "execution_count": null,
      "id": "2707cfaa",
      "metadata": {
        "id": "2707cfaa",
        "outputId": "3af06ce5-9b9a-4b5e-8e1e-b273a1225f60"
      },
      "outputs": [
        {
          "data": {
            "text/plain": [
              "dict_items"
            ]
          },
          "execution_count": 36,
          "metadata": {},
          "output_type": "execute_result"
        }
      ],
      "source": [
        "x = dict1.items()\n",
        "type(x)"
      ]
    },
    {
      "cell_type": "code",
      "execution_count": null,
      "id": "f1d62580",
      "metadata": {
        "id": "f1d62580",
        "outputId": "617bbe0f-9d3f-4a1e-d496-67b6c0cfb1ae"
      },
      "outputs": [
        {
          "name": "stdout",
          "output_type": "stream",
          "text": [
            "Help on class dict in module builtins:\n",
            "\n",
            "class dict(object)\n",
            " |  dict() -> new empty dictionary\n",
            " |  dict(mapping) -> new dictionary initialized from a mapping object's\n",
            " |      (key, value) pairs\n",
            " |  dict(iterable) -> new dictionary initialized as if via:\n",
            " |      d = {}\n",
            " |      for k, v in iterable:\n",
            " |          d[k] = v\n",
            " |  dict(**kwargs) -> new dictionary initialized with the name=value pairs\n",
            " |      in the keyword argument list.  For example:  dict(one=1, two=2)\n",
            " |  \n",
            " |  Built-in subclasses:\n",
            " |      StgDict\n",
            " |  \n",
            " |  Methods defined here:\n",
            " |  \n",
            " |  __contains__(self, key, /)\n",
            " |      True if the dictionary has the specified key, else False.\n",
            " |  \n",
            " |  __delitem__(self, key, /)\n",
            " |      Delete self[key].\n",
            " |  \n",
            " |  __eq__(self, value, /)\n",
            " |      Return self==value.\n",
            " |  \n",
            " |  __ge__(self, value, /)\n",
            " |      Return self>=value.\n",
            " |  \n",
            " |  __getattribute__(self, name, /)\n",
            " |      Return getattr(self, name).\n",
            " |  \n",
            " |  __getitem__(...)\n",
            " |      x.__getitem__(y) <==> x[y]\n",
            " |  \n",
            " |  __gt__(self, value, /)\n",
            " |      Return self>value.\n",
            " |  \n",
            " |  __init__(self, /, *args, **kwargs)\n",
            " |      Initialize self.  See help(type(self)) for accurate signature.\n",
            " |  \n",
            " |  __ior__(self, value, /)\n",
            " |      Return self|=value.\n",
            " |  \n",
            " |  __iter__(self, /)\n",
            " |      Implement iter(self).\n",
            " |  \n",
            " |  __le__(self, value, /)\n",
            " |      Return self<=value.\n",
            " |  \n",
            " |  __len__(self, /)\n",
            " |      Return len(self).\n",
            " |  \n",
            " |  __lt__(self, value, /)\n",
            " |      Return self<value.\n",
            " |  \n",
            " |  __ne__(self, value, /)\n",
            " |      Return self!=value.\n",
            " |  \n",
            " |  __or__(self, value, /)\n",
            " |      Return self|value.\n",
            " |  \n",
            " |  __repr__(self, /)\n",
            " |      Return repr(self).\n",
            " |  \n",
            " |  __reversed__(self, /)\n",
            " |      Return a reverse iterator over the dict keys.\n",
            " |  \n",
            " |  __ror__(self, value, /)\n",
            " |      Return value|self.\n",
            " |  \n",
            " |  __setitem__(self, key, value, /)\n",
            " |      Set self[key] to value.\n",
            " |  \n",
            " |  __sizeof__(...)\n",
            " |      D.__sizeof__() -> size of D in memory, in bytes\n",
            " |  \n",
            " |  clear(...)\n",
            " |      D.clear() -> None.  Remove all items from D.\n",
            " |  \n",
            " |  copy(...)\n",
            " |      D.copy() -> a shallow copy of D\n",
            " |  \n",
            " |  get(self, key, default=None, /)\n",
            " |      Return the value for key if key is in the dictionary, else default.\n",
            " |  \n",
            " |  items(...)\n",
            " |      D.items() -> a set-like object providing a view on D's items\n",
            " |  \n",
            " |  keys(...)\n",
            " |      D.keys() -> a set-like object providing a view on D's keys\n",
            " |  \n",
            " |  pop(...)\n",
            " |      D.pop(k[,d]) -> v, remove specified key and return the corresponding value.\n",
            " |      \n",
            " |      If key is not found, default is returned if given, otherwise KeyError is raised\n",
            " |  \n",
            " |  popitem(self, /)\n",
            " |      Remove and return a (key, value) pair as a 2-tuple.\n",
            " |      \n",
            " |      Pairs are returned in LIFO (last-in, first-out) order.\n",
            " |      Raises KeyError if the dict is empty.\n",
            " |  \n",
            " |  setdefault(self, key, default=None, /)\n",
            " |      Insert key with a value of default if key is not in the dictionary.\n",
            " |      \n",
            " |      Return the value for key if key is in the dictionary, else default.\n",
            " |  \n",
            " |  update(...)\n",
            " |      D.update([E, ]**F) -> None.  Update D from dict/iterable E and F.\n",
            " |      If E is present and has a .keys() method, then does:  for k in E: D[k] = E[k]\n",
            " |      If E is present and lacks a .keys() method, then does:  for k, v in E: D[k] = v\n",
            " |      In either case, this is followed by: for k in F:  D[k] = F[k]\n",
            " |  \n",
            " |  values(...)\n",
            " |      D.values() -> an object providing a view on D's values\n",
            " |  \n",
            " |  ----------------------------------------------------------------------\n",
            " |  Class methods defined here:\n",
            " |  \n",
            " |  __class_getitem__(...) from builtins.type\n",
            " |      See PEP 585\n",
            " |  \n",
            " |  fromkeys(iterable, value=None, /) from builtins.type\n",
            " |      Create a new dictionary with keys from iterable and values set to value.\n",
            " |  \n",
            " |  ----------------------------------------------------------------------\n",
            " |  Static methods defined here:\n",
            " |  \n",
            " |  __new__(*args, **kwargs) from builtins.type\n",
            " |      Create and return a new object.  See help(type) for accurate signature.\n",
            " |  \n",
            " |  ----------------------------------------------------------------------\n",
            " |  Data and other attributes defined here:\n",
            " |  \n",
            " |  __hash__ = None\n",
            "\n"
          ]
        }
      ],
      "source": [
        "help(dict)"
      ]
    },
    {
      "cell_type": "code",
      "execution_count": null,
      "id": "8da63864",
      "metadata": {
        "id": "8da63864",
        "outputId": "f44e6571-ba98-4c2a-9893-e10ea8ba1a1e"
      },
      "outputs": [
        {
          "name": "stdout",
          "output_type": "stream",
          "text": [
            "P\n",
            "o\n"
          ]
        }
      ],
      "source": [
        "###################    STRINGS    #########################################\n",
        "Name = \"Python\"\n",
        "\n",
        "print(Name[0])\n",
        "print(Name[4])"
      ]
    },
    {
      "cell_type": "code",
      "execution_count": null,
      "id": "5ebd4ff4",
      "metadata": {
        "id": "5ebd4ff4",
        "outputId": "ba8a7231-6bf0-43ed-acb8-4bab21079710"
      },
      "outputs": [
        {
          "data": {
            "text/plain": [
              "'h'"
            ]
          },
          "execution_count": 40,
          "metadata": {},
          "output_type": "execute_result"
        }
      ],
      "source": [
        "Name[3]"
      ]
    },
    {
      "cell_type": "code",
      "execution_count": null,
      "id": "1d1e9ebc",
      "metadata": {
        "id": "1d1e9ebc",
        "outputId": "8b3f5429-0c6c-404a-cd88-24fb60381bb6"
      },
      "outputs": [
        {
          "data": {
            "text/plain": [
              "'ytho'"
            ]
          },
          "execution_count": 41,
          "metadata": {},
          "output_type": "execute_result"
        }
      ],
      "source": [
        "Name[1:5]"
      ]
    },
    {
      "cell_type": "code",
      "execution_count": null,
      "id": "6373d5ae",
      "metadata": {
        "id": "6373d5ae",
        "outputId": "fc2c4d02-21b3-4503-d645-ab56c93bd938"
      },
      "outputs": [
        {
          "name": "stdout",
          "output_type": "stream",
          "text": [
            "Py\n"
          ]
        }
      ],
      "source": [
        "print(Name[:-4])\n"
      ]
    },
    {
      "cell_type": "code",
      "execution_count": null,
      "id": "fb73ced8",
      "metadata": {
        "id": "fb73ced8",
        "outputId": "b09b8da9-66de-4f05-94bd-5cc491890706"
      },
      "outputs": [
        {
          "name": "stdout",
          "output_type": "stream",
          "text": [
            "thon\n"
          ]
        }
      ],
      "source": [
        "print(Name[-4:])"
      ]
    },
    {
      "cell_type": "code",
      "execution_count": null,
      "id": "12b31c68",
      "metadata": {
        "id": "12b31c68",
        "outputId": "cc7b44f5-859a-4795-a22e-92aaec0da5b8"
      },
      "outputs": [
        {
          "name": "stdout",
          "output_type": "stream",
          "text": [
            "n\n",
            "tho\n"
          ]
        }
      ],
      "source": [
        "print(Name[-1])\n",
        "\n",
        "print(Name[-4:-1])"
      ]
    },
    {
      "cell_type": "code",
      "execution_count": null,
      "id": "ae68d63d",
      "metadata": {
        "id": "ae68d63d",
        "outputId": "266c33a8-a43a-40d3-962c-1675cc69d1cd"
      },
      "outputs": [
        {
          "name": "stdout",
          "output_type": "stream",
          "text": [
            "PythonPythonPython\n"
          ]
        }
      ],
      "source": [
        "print (Name *3)"
      ]
    },
    {
      "cell_type": "code",
      "execution_count": null,
      "id": "a745cfd7",
      "metadata": {
        "id": "a745cfd7",
        "outputId": "74b0f3ff-6911-4284-d482-8cfac9d16661"
      },
      "outputs": [
        {
          "name": "stdout",
          "output_type": "stream",
          "text": [
            "Python Test\n"
          ]
        }
      ],
      "source": [
        "print (Name + ' ' + \"Test\")  ## concatinating"
      ]
    },
    {
      "cell_type": "code",
      "execution_count": null,
      "id": "0f65f410",
      "metadata": {
        "id": "0f65f410",
        "outputId": "4138755e-fc62-4254-f791-ffab6e549ff2"
      },
      "outputs": [
        {
          "name": "stdout",
          "output_type": "stream",
          "text": [
            "hi\n",
            "2\n"
          ]
        }
      ],
      "source": [
        "a = 'hi'\n",
        "print(a)\n",
        "print(len(a))"
      ]
    },
    {
      "cell_type": "code",
      "execution_count": null,
      "id": "eab69f89",
      "metadata": {
        "id": "eab69f89",
        "outputId": "283024a5-f37a-421c-d20a-f0e22950df46"
      },
      "outputs": [
        {
          "name": "stdout",
          "output_type": "stream",
          "text": [
            " the best language\n",
            " h etlnug\n",
            " ee na\n",
            "bs agae\n"
          ]
        }
      ],
      "source": [
        "sa = \" the best language\"\n",
        "print (sa[::1])\n",
        "print (sa[::2])\n",
        "print (sa[::3])\n",
        "print (sa[5::2])"
      ]
    },
    {
      "cell_type": "code",
      "execution_count": null,
      "id": "9d9d2acd",
      "metadata": {
        "id": "9d9d2acd",
        "outputId": "6e2e1655-e24d-4dc9-f37c-6b616ca6f9b2"
      },
      "outputs": [
        {
          "data": {
            "text/plain": [
              "'egaugnal tseb eht '"
            ]
          },
          "execution_count": 65,
          "metadata": {},
          "output_type": "execute_result"
        }
      ],
      "source": [
        "sa[::-1]   #### to reverse the strings or  sentence"
      ]
    },
    {
      "cell_type": "code",
      "execution_count": null,
      "id": "e3cf0fc0",
      "metadata": {
        "id": "e3cf0fc0",
        "outputId": "e8731112-e5e2-4bd8-d544-a0d2b949ef13"
      },
      "outputs": [
        {
          "name": "stdout",
          "output_type": "stream",
          "text": [
            "updated Hello world :-  Hello World!  Python\n",
            "updated Hello world :-  Hello Python\n"
          ]
        }
      ],
      "source": [
        "var = 'Hello World!  '\n",
        "print(\"updated Hello world :- \",var + \"Python\")\n",
        "print(\"updated Hello world :- \",var[:6] + \"Python\")"
      ]
    },
    {
      "cell_type": "raw",
      "id": "c24b4ba4",
      "metadata": {
        "id": "c24b4ba4"
      },
      "source": [
        "string = \"This is Python\"\n",
        "str = list(string)\n",
        "print(str)"
      ]
    },
    {
      "cell_type": "code",
      "execution_count": null,
      "id": "3a945c04",
      "metadata": {
        "id": "3a945c04",
        "outputId": "3655f675-2a2a-4041-e615-fb51dcdb84fb"
      },
      "outputs": [
        {
          "name": "stdout",
          "output_type": "stream",
          "text": [
            "['(', 'T', 'h', 'i', 's', ')', ' ', 'i', 's', ' ', 'P', 'y', 't', 'h', 'o', 'n']\n"
          ]
        }
      ],
      "source": [
        "string = \"This is Python\"\n",
        "str = list(string)\n",
        "print(str)"
      ]
    },
    {
      "cell_type": "code",
      "execution_count": null,
      "id": "a23dceaa",
      "metadata": {
        "id": "a23dceaa",
        "outputId": "30eb7844-a8ed-454f-a410-5560c64d88ed"
      },
      "outputs": [
        {
          "data": {
            "text/plain": [
              "'6.46  python prasad is $1'"
            ]
          },
          "execution_count": 72,
          "metadata": {},
          "output_type": "execute_result"
        }
      ],
      "source": [
        "###########          String Formatting     ###########\n",
        "format = '%.2f  %s is $%d'\n",
        "format % (6.4561,\"python prasad\",1)"
      ]
    },
    {
      "cell_type": "code",
      "execution_count": null,
      "id": "3806ecbe",
      "metadata": {
        "id": "3806ecbe",
        "outputId": "fb03a061-73f7-42f9-dfd7-29e85d1da7cc"
      },
      "outputs": [
        {
          "name": "stdout",
          "output_type": "stream",
          "text": [
            " my name is \"Prassad\" and my age is \"34\".\n"
          ]
        },
        {
          "data": {
            "text/plain": [
              "str"
            ]
          },
          "execution_count": 73,
          "metadata": {},
          "output_type": "execute_result"
        }
      ],
      "source": [
        "statement = \"\"\" my name is \"Prassad\" and my age is \"34\".\"\"\"\n",
        "print(statement)\n",
        "type(statement)\n"
      ]
    },
    {
      "cell_type": "code",
      "execution_count": null,
      "id": "893b4152",
      "metadata": {
        "id": "893b4152",
        "outputId": "f684b8f1-8429-4efa-ac43-374e571a3907"
      },
      "outputs": [
        {
          "name": "stdout",
          "output_type": "stream",
          "text": [
            "<class 'str'>\n",
            "Python\n",
            "PYTHON\n",
            "python\n",
            "pyTHon\n"
          ]
        }
      ],
      "source": [
        "name =  \"PYthON\"\n",
        "print(type(name))\n",
        "## to make first letter capitalize\n",
        "print(name.capitalize())\n",
        "\n",
        "print(name.upper())\n",
        "print(name.lower())\n",
        "print(name.swapcase())"
      ]
    },
    {
      "cell_type": "code",
      "execution_count": null,
      "id": "f7e16e92",
      "metadata": {
        "id": "f7e16e92",
        "outputId": "eeca75ec-5a70-4df1-accc-b4f42d1c2abb"
      },
      "outputs": [
        {
          "data": {
            "text/plain": [
              "'                      PYthON                      '"
            ]
          },
          "execution_count": 12,
          "metadata": {},
          "output_type": "execute_result"
        }
      ],
      "source": [
        "###    to make the string at given spaces    ############\n",
        "name.center(50)"
      ]
    },
    {
      "cell_type": "code",
      "execution_count": null,
      "id": "70aaf1b6",
      "metadata": {
        "id": "70aaf1b6",
        "outputId": "6064d479-1ac1-490d-8fbf-01f48783f727"
      },
      "outputs": [
        {
          "data": {
            "text/plain": [
              "'PYthON'"
            ]
          },
          "execution_count": 5,
          "metadata": {},
          "output_type": "execute_result"
        }
      ],
      "source": [
        "#######      to remove the unwanted space    #################\n",
        "name.strip()"
      ]
    },
    {
      "cell_type": "code",
      "execution_count": null,
      "id": "6e44cd88",
      "metadata": {
        "id": "6e44cd88",
        "outputId": "b9b6d5d9-0eb4-4fea-8f1e-2980b177de73"
      },
      "outputs": [
        {
          "data": {
            "text/plain": [
              "'PYthON                      '"
            ]
          },
          "execution_count": 14,
          "metadata": {},
          "output_type": "execute_result"
        }
      ],
      "source": [
        "#######      to remove the leftside  unwanted space    #################\n",
        "name = '                      PYthON                      '\n",
        "name.lstrip()"
      ]
    },
    {
      "cell_type": "code",
      "execution_count": null,
      "id": "7f7c09c9",
      "metadata": {
        "id": "7f7c09c9",
        "outputId": "62847d4b-74d5-4e61-ba83-46ba4e2a3d04"
      },
      "outputs": [
        {
          "data": {
            "text/plain": [
              "'                      PYthON'"
            ]
          },
          "execution_count": 15,
          "metadata": {},
          "output_type": "execute_result"
        }
      ],
      "source": [
        "#######      to remove the rightside  unwanted space    #################\n",
        "name = '                      PYthON                      '\n",
        "name.rstrip()"
      ]
    },
    {
      "cell_type": "code",
      "execution_count": null,
      "id": "747e0bf3",
      "metadata": {
        "id": "747e0bf3",
        "outputId": "36a0c18e-c69f-4655-befb-2797afb96b6c"
      },
      "outputs": [
        {
          "name": "stdout",
          "output_type": "stream",
          "text": [
            "3\n"
          ]
        }
      ],
      "source": [
        "########   count() method returns the no. of ocurences of the substring in the given string\n",
        "\n",
        "num = \" prasad is a python programmer\"\n",
        "substring = \"p\"\n",
        "\n",
        "count = num.count(substring)\n",
        "print(count)"
      ]
    },
    {
      "cell_type": "code",
      "execution_count": null,
      "id": "c93a18fe",
      "metadata": {
        "id": "c93a18fe",
        "outputId": "ae2ff644-27b1-4600-942b-57976260b838"
      },
      "outputs": [
        {
          "data": {
            "text/plain": [
              "2"
            ]
          },
          "execution_count": 20,
          "metadata": {},
          "output_type": "execute_result"
        }
      ],
      "source": [
        "  ########   count() method returns the no. of ocurences of the substring in the given string using start and end\n",
        "count = num.count(substring,8,25)\n",
        "count"
      ]
    },
    {
      "cell_type": "code",
      "execution_count": null,
      "id": "63afd51c",
      "metadata": {
        "id": "63afd51c",
        "outputId": "ccc7c14c-2100-47b4-ff80-a3b16fceae60"
      },
      "outputs": [
        {
          "name": "stdout",
          "output_type": "stream",
          "text": [
            "<class 'str'>\n",
            "True\n"
          ]
        }
      ],
      "source": [
        "####b   returns True if the string has  1character and all characters are alphanumeric and false otherwise\n",
        "\n",
        "asg = \"thisis23\"  ##   no space in this string\n",
        "print(type(asg))\n",
        "print(asg.isalnum())"
      ]
    },
    {
      "cell_type": "code",
      "execution_count": null,
      "id": "38911598",
      "metadata": {
        "id": "38911598",
        "outputId": "f7ace658-c07b-4086-a07f-75d408251972"
      },
      "outputs": [
        {
          "name": "stdout",
          "output_type": "stream",
          "text": [
            "True\n"
          ]
        }
      ],
      "source": [
        "ns = \"vcsbjdc\"\n",
        "print(ns.isalpha())"
      ]
    },
    {
      "cell_type": "code",
      "execution_count": null,
      "id": "3c14eb4c",
      "metadata": {
        "id": "3c14eb4c",
        "outputId": "b7f31a35-ded0-48f2-d0bf-629f0d64285e"
      },
      "outputs": [
        {
          "name": "stdout",
          "output_type": "stream",
          "text": [
            "True\n"
          ]
        }
      ],
      "source": [
        "hdc = \"56156278\"\n",
        "print(hdc.isdigit())"
      ]
    },
    {
      "cell_type": "code",
      "execution_count": null,
      "id": "641a11c8",
      "metadata": {
        "id": "641a11c8",
        "outputId": "9d57ae85-6216-4ebc-ba55-e4f2f0f742d9"
      },
      "outputs": [
        {
          "name": "stdout",
          "output_type": "stream",
          "text": [
            "iit was very good thwas was parwas was was was was kwasss\n"
          ]
        }
      ],
      "source": [
        "#########      replace method()     ##########\n",
        "\n",
        "w = \"iit is very good this was paris is is is is misss\"\n",
        "print(w.replace(\"is\",\"was\"))"
      ]
    },
    {
      "cell_type": "code",
      "execution_count": null,
      "id": "9a97a0b6",
      "metadata": {
        "id": "9a97a0b6",
        "outputId": "d2a6df06-b5c7-4be4-fca7-0251cdfbec8a"
      },
      "outputs": [
        {
          "name": "stdout",
          "output_type": "stream",
          "text": [
            "iit was very good thwas was parwas was is is is kisss\n"
          ]
        }
      ],
      "source": [
        "print(w.replace(\"is\",\"was\", 4))"
      ]
    },
    {
      "cell_type": "code",
      "execution_count": null,
      "id": "bd3094ca",
      "metadata": {
        "id": "bd3094ca",
        "outputId": "75dbda0a-81fc-4791-a609-fb7b679b7139"
      },
      "outputs": [
        {
          "name": "stdout",
          "output_type": "stream",
          "text": [
            "i:i:t: :i:s: :v:e:r:y: :g:o:o:d: :t:h:i:s: :w:a:s: :p:a:r:i:s: :i:s: :i:s: :i:s: :i:s: :k:i:s:s:s\n"
          ]
        }
      ],
      "source": [
        "print(\":\".join(w))"
      ]
    },
    {
      "cell_type": "code",
      "execution_count": null,
      "id": "dac66db5",
      "metadata": {
        "id": "dac66db5",
        "outputId": "fe664489-3add-4dcd-cb2d-b2d59ae1db05"
      },
      "outputs": [
        {
          "name": "stdout",
          "output_type": "stream",
          "text": [
            "['this', 'is', 'rakesh', 'oshd']\n"
          ]
        }
      ],
      "source": [
        "##########      split method()     ###########\n",
        "dv = \"this is rakesh oshd\"\n",
        "print(dv.split())"
      ]
    },
    {
      "cell_type": "code",
      "execution_count": null,
      "id": "c9a14db4",
      "metadata": {
        "id": "c9a14db4",
        "outputId": "6af211a7-4b09-4fe4-b79e-7176eb59def2"
      },
      "outputs": [
        {
          "name": "stdout",
          "output_type": "stream",
          "text": [
            "['this', 'is', 'rakesh oshd']\n"
          ]
        }
      ],
      "source": [
        "print(dv.split(' ', 2))"
      ]
    },
    {
      "cell_type": "code",
      "execution_count": null,
      "id": "51349cac",
      "metadata": {
        "id": "51349cac",
        "outputId": "85c6d5fc-359c-4831-d925-6ba77c9d294a"
      },
      "outputs": [
        {
          "name": "stdout",
          "output_type": "stream",
          "text": [
            "17\n",
            "##############\n",
            "1.574734\n"
          ]
        },
        {
          "data": {
            "text/plain": [
              "float"
            ]
          },
          "execution_count": 37,
          "metadata": {},
          "output_type": "execute_result"
        }
      ],
      "source": [
        "fb = \"vsdb fh dfsg vbh :  1.574734\"\n",
        "ko = fb.find(\":\")\n",
        "print(ko)\n",
        "print (\"##############\")\n",
        "rg = float(fb[ko + 1 :])\n",
        "print(rg)\n",
        "type(rg)"
      ]
    },
    {
      "cell_type": "code",
      "execution_count": null,
      "id": "af8240cb",
      "metadata": {
        "id": "af8240cb",
        "outputId": "59ac487d-de61-4713-e8b1-e0dffc64063b"
      },
      "outputs": [
        {
          "name": "stdout",
          "output_type": "stream",
          "text": [
            "2 3\n"
          ]
        },
        {
          "data": {
            "text/plain": [
              "(3, 2)"
            ]
          },
          "execution_count": 42,
          "metadata": {},
          "output_type": "execute_result"
        }
      ],
      "source": [
        "#########  swap the values of two variables    ###################\n",
        "x = 2; y = 3\n",
        "print(x,y)\n",
        "\n",
        "tmp = x\n",
        "x = y\n",
        "y = tmp\n",
        "\n",
        "x,y\n"
      ]
    },
    {
      "cell_type": "code",
      "execution_count": null,
      "id": "a72c6e8e",
      "metadata": {
        "id": "a72c6e8e",
        "outputId": "ba768de2-81a7-4901-a906-1dd0fbb28a32"
      },
      "outputs": [
        {
          "name": "stdout",
          "output_type": "stream",
          "text": [
            "2 3\n"
          ]
        }
      ],
      "source": [
        "x = 2; y = 3\n",
        "print(x,y)\n"
      ]
    },
    {
      "cell_type": "code",
      "execution_count": null,
      "id": "e3432e09",
      "metadata": {
        "id": "e3432e09",
        "outputId": "5c5b654a-6853-4348-d58f-16cb761fccd4"
      },
      "outputs": [
        {
          "data": {
            "text/plain": [
              "(3, 2)"
            ]
          },
          "execution_count": 44,
          "metadata": {},
          "output_type": "execute_result"
        }
      ],
      "source": [
        "(x,y) = (y,x)\n",
        "x,y"
      ]
    },
    {
      "cell_type": "code",
      "execution_count": null,
      "id": "d572f54d",
      "metadata": {
        "id": "d572f54d",
        "outputId": "e283c77b-509c-440d-b383-ba77b7481bfc"
      },
      "outputs": [
        {
          "name": "stdout",
          "output_type": "stream",
          "text": [
            "enter the value: 123456\n",
            "['1', '2', '3', '4', '5', '6']\n",
            "6\n"
          ]
        }
      ],
      "source": [
        "a  = list(input(\"enter the value: \"))\n",
        "print(a)\n",
        "print(len(a))"
      ]
    },
    {
      "cell_type": "code",
      "execution_count": null,
      "id": "00e9f6b5",
      "metadata": {
        "id": "00e9f6b5",
        "outputId": "ec993f21-559d-4c70-893f-aeb2d035330a"
      },
      "outputs": [
        {
          "name": "stdout",
          "output_type": "stream",
          "text": [
            "['2', '3', '4', '5', '6', '1']\n",
            "['3', '4', '5', '6', '1', '2']\n",
            "['4', '5', '6', '1', '2', '3']\n",
            "['5', '6', '1', '2', '3', '4']\n",
            "['6', '1', '2', '3', '4', '5']\n"
          ]
        }
      ],
      "source": [
        "for i in range (1,len(a),1):\n",
        "    print(a[i: ] + a[ : i])"
      ]
    },
    {
      "cell_type": "code",
      "execution_count": null,
      "id": "372c3ef2",
      "metadata": {
        "id": "372c3ef2",
        "outputId": "2635b6ca-57ec-4dbd-edcd-57309508dbec"
      },
      "outputs": [
        {
          "name": "stdout",
          "output_type": "stream",
          "text": [
            "['1']\n",
            "['1', '2']\n",
            "['1', '2', '3']\n",
            "['1', '2', '3', '4']\n",
            "['1', '2', '3', '4', '5']\n"
          ]
        }
      ],
      "source": [
        "for i in range (1,len(a),1):\n",
        "    print(a[i: 1] + a[ : i])"
      ]
    },
    {
      "cell_type": "code",
      "execution_count": null,
      "id": "73946cf6",
      "metadata": {
        "id": "73946cf6",
        "outputId": "0493d1bd-f4d0-4da5-bd99-52791996f0c9"
      },
      "outputs": [
        {
          "name": "stdout",
          "output_type": "stream",
          "text": [
            "['2', '3', '4', '5', '6']\n",
            "['3', '4', '5', '6']\n",
            "['4', '5', '6']\n",
            "['5', '6']\n",
            "['6']\n"
          ]
        }
      ],
      "source": [
        "for i in range (1,len(a),1):\n",
        "    print(a[i: 6] )"
      ]
    },
    {
      "cell_type": "code",
      "execution_count": null,
      "id": "5381e001",
      "metadata": {
        "id": "5381e001",
        "outputId": "49e70924-f2a5-4378-ad59-238b10f73904"
      },
      "outputs": [
        {
          "name": "stdout",
          "output_type": "stream",
          "text": [
            "enter x1 :2\n",
            "enter y1 :3\n",
            "2 3\n"
          ]
        }
      ],
      "source": [
        "import math\n",
        "\n",
        "###   record the datapoints\n",
        "x1 = int(input(\"enter x1 :\"))\n",
        "y1 = int(input(\"enter y1 :\"))\n",
        "print( x1,y1)"
      ]
    },
    {
      "cell_type": "code",
      "execution_count": null,
      "id": "56136be7",
      "metadata": {
        "id": "56136be7",
        "outputId": "99af32b0-1447-40ae-b027-18dae3b481cc"
      },
      "outputs": [
        {
          "name": "stdout",
          "output_type": "stream",
          "text": [
            "enter x2 :4\n",
            "enter y2 :5\n",
            "4 5\n"
          ]
        }
      ],
      "source": [
        "###   record the datapoints\n",
        "x2 = int(input(\"enter x2 :\"))\n",
        "y2 = int(input(\"enter y2 :\"))\n",
        "print( x2,y2)"
      ]
    },
    {
      "cell_type": "code",
      "execution_count": null,
      "id": "a18ff1ea",
      "metadata": {
        "id": "a18ff1ea",
        "outputId": "582c78e4-b324-43d4-fbe8-18e6fe0220bd"
      },
      "outputs": [
        {
          "name": "stdout",
          "output_type": "stream",
          "text": [
            "2.8284271247461903\n"
          ]
        }
      ],
      "source": [
        "##    distance between 2 datapoints on x-y plain\n",
        "##  Euclidean distance method\n",
        "distance = math.sqrt(((x2 - x1)**2) + ((y2 - y1)**2))\n",
        "print(distance)"
      ]
    },
    {
      "cell_type": "code",
      "execution_count": null,
      "id": "d4db9ffc",
      "metadata": {
        "colab": {
          "base_uri": "https://localhost:8080/"
        },
        "id": "d4db9ffc",
        "outputId": "7b3d0a0f-c6ae-44e7-fa53-0246aee9ae91"
      },
      "outputs": [
        {
          "output_type": "stream",
          "name": "stdout",
          "text": [
            "ifg\n"
          ]
        }
      ],
      "source": [
        "#######    conditional statements ##########\n",
        "\n",
        "w = 23\n",
        "\n",
        "if w >= 20 :\n",
        "  print(\"ifg\")\n"
      ]
    },
    {
      "cell_type": "code",
      "execution_count": null,
      "id": "74e3bcf2",
      "metadata": {
        "colab": {
          "base_uri": "https://localhost:8080/"
        },
        "id": "74e3bcf2",
        "outputId": "3b50c1c3-a4da-43ce-9dfd-1d48329fe7d5"
      },
      "outputs": [
        {
          "output_type": "stream",
          "name": "stdout",
          "text": [
            "30\n"
          ]
        }
      ],
      "source": [
        "w = 25\n",
        "if w <= 20 :\n",
        "  print(w)\n",
        "print(30)"
      ]
    },
    {
      "cell_type": "code",
      "source": [
        "x = 2\n",
        "y = 25\n",
        "print(x)\n",
        "\n",
        "if x <= 8:\n",
        "  print(x)\n",
        "print(y)"
      ],
      "metadata": {
        "colab": {
          "base_uri": "https://localhost:8080/"
        },
        "id": "goVYnzuUh58N",
        "outputId": "99b03287-60a3-44aa-a978-887cd66c85e6"
      },
      "id": "goVYnzuUh58N",
      "execution_count": null,
      "outputs": [
        {
          "output_type": "stream",
          "name": "stdout",
          "text": [
            "2\n",
            "2\n",
            "25\n"
          ]
        }
      ]
    },
    {
      "cell_type": "code",
      "source": [
        "####    if and else conditions when u have two conditions\n",
        "\n",
        "is_male = False\n",
        "\n",
        "if is_male :\n",
        "  print(\"you rae male\")\n",
        "else:\n",
        "  print(\"you rae female\")"
      ],
      "metadata": {
        "colab": {
          "base_uri": "https://localhost:8080/"
        },
        "id": "nZic84YqiJG7",
        "outputId": "f3609a79-e9f5-45a0-b994-e98fc71ef7a2"
      },
      "id": "nZic84YqiJG7",
      "execution_count": null,
      "outputs": [
        {
          "output_type": "stream",
          "name": "stdout",
          "text": [
            "you rae female\n"
          ]
        }
      ]
    },
    {
      "cell_type": "code",
      "source": [
        "a = 20\n",
        "\n",
        "if a <= 15 :\n",
        "  print(\"if\")\n",
        "  print(\"one more statement\")\n",
        "elif a >= 25 :\n",
        "  print(\"elif\")\n",
        "else:\n",
        "  print(\"else\")"
      ],
      "metadata": {
        "colab": {
          "base_uri": "https://localhost:8080/"
        },
        "id": "IwFTtzNgjTi2",
        "outputId": "07d0d815-45e8-46e9-878d-b1f99698f03c"
      },
      "id": "IwFTtzNgjTi2",
      "execution_count": null,
      "outputs": [
        {
          "output_type": "stream",
          "name": "stdout",
          "text": [
            "else\n"
          ]
        }
      ]
    },
    {
      "cell_type": "code",
      "source": [
        "##    if u have more than two conditions use the elif\n",
        "\n",
        "is_male = True\n",
        "is_tall = False\n",
        "\n",
        "if is_male and is_tall :\n",
        "  print(\"you are tall male\")\n",
        "elif is_male and not (is_tall) :\n",
        "  print(\"you rae short male\")\n",
        "elif not(is_male) and is_tall :\n",
        "  print(\"you are not male but tall\")\n",
        "else:\n",
        "  print(\"you rae not male and not tall\")"
      ],
      "metadata": {
        "colab": {
          "base_uri": "https://localhost:8080/"
        },
        "id": "nXwS4zlfkybK",
        "outputId": "5f1a9422-1a40-4e04-82b2-c243e71f2986"
      },
      "id": "nXwS4zlfkybK",
      "execution_count": null,
      "outputs": [
        {
          "output_type": "stream",
          "name": "stdout",
          "text": [
            "you rae short male\n"
          ]
        }
      ]
    },
    {
      "cell_type": "code",
      "source": [
        "##     condition inside a consditional statements\n",
        "score = 500\n",
        "money = 6000\n",
        "age = 35\n",
        "\n",
        "if score >= 100 :\n",
        "  print(\"you have good points\")\n",
        "  if money >= 5000 :\n",
        "    print(\"you win\")\n",
        "    if age >= 30 :\n",
        "      print(\"ypu win in middle age\")\n",
        "    else:\n",
        "      print(\"you win young age\")\n",
        "  else:\n",
        "    print(\"you have high points but not have enough money\")\n",
        "else:\n",
        "  print(\"you are loser\")"
      ],
      "metadata": {
        "colab": {
          "base_uri": "https://localhost:8080/"
        },
        "id": "mxU9PJr4l9Mi",
        "outputId": "79ac1926-ee62-4ee8-f5b8-b439aeca319f"
      },
      "id": "mxU9PJr4l9Mi",
      "execution_count": null,
      "outputs": [
        {
          "output_type": "stream",
          "name": "stdout",
          "text": [
            "you have good points\n",
            "you win\n",
            "you win young age\n"
          ]
        }
      ]
    },
    {
      "cell_type": "code",
      "source": [
        "##   testing for an element in list using if statement\n",
        "\n",
        "list = [\"ajay\",'ramesh']\n",
        "if \"ramesh\" in list:\n",
        "  print(\"found ramesh\")"
      ],
      "metadata": {
        "colab": {
          "base_uri": "https://localhost:8080/"
        },
        "id": "F1tOo9zlozZa",
        "outputId": "dc8cb9d2-8580-4a20-c4da-471f26dfdf84"
      },
      "id": "F1tOo9zlozZa",
      "execution_count": null,
      "outputs": [
        {
          "output_type": "stream",
          "name": "stdout",
          "text": [
            "found ramesh\n"
          ]
        }
      ]
    },
    {
      "cell_type": "code",
      "source": [
        "##      for loops   ####\n",
        "snacks = [\"burger\",\"shawarma\",\"pasta\", \"pizza\"]\n",
        "\n",
        "for i in snacks:\n",
        "  print(\"current snack :\",i)"
      ],
      "metadata": {
        "colab": {
          "base_uri": "https://localhost:8080/"
        },
        "id": "BCtfkY30sv2N",
        "outputId": "d426a0b9-de00-4879-e1c4-67419c55604f"
      },
      "id": "BCtfkY30sv2N",
      "execution_count": null,
      "outputs": [
        {
          "output_type": "stream",
          "name": "stdout",
          "text": [
            "current snack : burger\n",
            "current snack : shawarma\n",
            "current snack : pasta\n",
            "current snack : pizza\n"
          ]
        }
      ]
    },
    {
      "cell_type": "code",
      "source": [
        "range(0,5)"
      ],
      "metadata": {
        "colab": {
          "base_uri": "https://localhost:8080/"
        },
        "id": "ccGW5SfVtRSK",
        "outputId": "a57a6b6b-858a-4ee6-fe59-768eb28753d6"
      },
      "id": "ccGW5SfVtRSK",
      "execution_count": null,
      "outputs": [
        {
          "output_type": "execute_result",
          "data": {
            "text/plain": [
              "range(0, 5)"
            ]
          },
          "metadata": {},
          "execution_count": 31
        }
      ]
    },
    {
      "cell_type": "code",
      "source": [
        "a = list(range(0,15))\n",
        "a"
      ],
      "metadata": {
        "colab": {
          "base_uri": "https://localhost:8080/",
          "height": 189
        },
        "id": "uKQCXqtftYLS",
        "outputId": "5bf4088e-c2b7-4ac2-b188-46b8b0816c68"
      },
      "id": "uKQCXqtftYLS",
      "execution_count": null,
      "outputs": [
        {
          "output_type": "error",
          "ename": "TypeError",
          "evalue": "ignored",
          "traceback": [
            "\u001b[0;31m---------------------------------------------------------------------------\u001b[0m",
            "\u001b[0;31mTypeError\u001b[0m                                 Traceback (most recent call last)",
            "\u001b[0;32m<ipython-input-34-04045306c267>\u001b[0m in \u001b[0;36m<module>\u001b[0;34m()\u001b[0m\n\u001b[0;32m----> 1\u001b[0;31m \u001b[0ma\u001b[0m \u001b[0;34m=\u001b[0m \u001b[0mlist\u001b[0m\u001b[0;34m(\u001b[0m\u001b[0mrange\u001b[0m\u001b[0;34m(\u001b[0m\u001b[0;36m0\u001b[0m\u001b[0;34m,\u001b[0m\u001b[0;36m15\u001b[0m\u001b[0;34m)\u001b[0m\u001b[0;34m)\u001b[0m\u001b[0;34m\u001b[0m\u001b[0;34m\u001b[0m\u001b[0m\n\u001b[0m\u001b[1;32m      2\u001b[0m \u001b[0ma\u001b[0m\u001b[0;34m\u001b[0m\u001b[0;34m\u001b[0m\u001b[0m\n",
            "\u001b[0;31mTypeError\u001b[0m: 'list' object is not callable"
          ]
        }
      ]
    },
    {
      "cell_type": "code",
      "source": [
        "range(1,5,1)"
      ],
      "metadata": {
        "colab": {
          "base_uri": "https://localhost:8080/"
        },
        "id": "wRHPkRpJt_LK",
        "outputId": "78d0c601-c378-43b3-8c3f-8293bb8d2729"
      },
      "id": "wRHPkRpJt_LK",
      "execution_count": null,
      "outputs": [
        {
          "output_type": "execute_result",
          "data": {
            "text/plain": [
              "range(1, 5)"
            ]
          },
          "metadata": {},
          "execution_count": 35
        }
      ]
    },
    {
      "cell_type": "code",
      "source": [
        "for i in range (1,6,2):\n",
        "  print(i)"
      ],
      "metadata": {
        "colab": {
          "base_uri": "https://localhost:8080/"
        },
        "id": "rE_pqdfZugSF",
        "outputId": "885a6065-e85a-4602-b69a-52b5bec37f6b"
      },
      "id": "rE_pqdfZugSF",
      "execution_count": null,
      "outputs": [
        {
          "output_type": "stream",
          "name": "stdout",
          "text": [
            "1\n",
            "3\n",
            "5\n"
          ]
        }
      ]
    },
    {
      "cell_type": "code",
      "source": [
        "for i in range(1,15):\n",
        "  print(\"20 hours class of day :\",i)"
      ],
      "metadata": {
        "colab": {
          "base_uri": "https://localhost:8080/"
        },
        "id": "lNyAnUOyu2MJ",
        "outputId": "ce3225d1-1b6d-47a0-ad2c-23daf9d8715b"
      },
      "id": "lNyAnUOyu2MJ",
      "execution_count": null,
      "outputs": [
        {
          "output_type": "stream",
          "name": "stdout",
          "text": [
            "20 hours class of day : 1\n",
            "20 hours class of day : 2\n",
            "20 hours class of day : 3\n",
            "20 hours class of day : 4\n",
            "20 hours class of day : 5\n",
            "20 hours class of day : 6\n",
            "20 hours class of day : 7\n",
            "20 hours class of day : 8\n",
            "20 hours class of day : 9\n",
            "20 hours class of day : 10\n",
            "20 hours class of day : 11\n",
            "20 hours class of day : 12\n",
            "20 hours class of day : 13\n",
            "20 hours class of day : 14\n"
          ]
        }
      ]
    },
    {
      "cell_type": "code",
      "source": [
        "## returns the even number (without applying any condition)\n",
        "\n",
        "for i in range (0,15,2):\n",
        "  print(\"even numbers are\",i)"
      ],
      "metadata": {
        "colab": {
          "base_uri": "https://localhost:8080/"
        },
        "id": "VHuH4CdcvFja",
        "outputId": "51df7ba0-a77f-497d-dc24-c1f76c943fab"
      },
      "id": "VHuH4CdcvFja",
      "execution_count": null,
      "outputs": [
        {
          "output_type": "stream",
          "name": "stdout",
          "text": [
            "even numbers are 0\n",
            "even numbers are 2\n",
            "even numbers are 4\n",
            "even numbers are 6\n",
            "even numbers are 8\n",
            "even numbers are 10\n",
            "even numbers are 12\n",
            "even numbers are 14\n"
          ]
        }
      ]
    },
    {
      "cell_type": "code",
      "source": [
        "## traversing a list    #####\n",
        "nums = [2,3,5]\n",
        "sum = 0\n",
        "for i in nums:\n",
        "  sum = sum + i\n",
        "print(sum)"
      ],
      "metadata": {
        "colab": {
          "base_uri": "https://localhost:8080/"
        },
        "id": "Ec60bD6DwSih",
        "outputId": "284e7cb1-30be-44da-d573-8605bc2e9ad9"
      },
      "id": "Ec60bD6DwSih",
      "execution_count": null,
      "outputs": [
        {
          "output_type": "stream",
          "name": "stdout",
          "text": [
            "10\n",
            "10\n"
          ]
        }
      ]
    },
    {
      "cell_type": "code",
      "source": [
        "dh = [2,3,5]\n",
        "getsum = [i + 2 for i in dh]\n",
        "print(getsum)"
      ],
      "metadata": {
        "colab": {
          "base_uri": "https://localhost:8080/"
        },
        "id": "9Ep2GlHSxL5r",
        "outputId": "4eb565d4-a710-4183-8da2-f1dc6c568adf"
      },
      "id": "9Ep2GlHSxL5r",
      "execution_count": null,
      "outputs": [
        {
          "output_type": "stream",
          "name": "stdout",
          "text": [
            "[4, 5, 7]\n"
          ]
        }
      ]
    },
    {
      "cell_type": "code",
      "source": [
        "dh = [2,3,5]\n",
        "getsum = [i + 2 for i in dh if i <5]\n",
        "print(getsum)"
      ],
      "metadata": {
        "colab": {
          "base_uri": "https://localhost:8080/"
        },
        "id": "JxdyN-SjyB5-",
        "outputId": "34fed96b-d237-4b60-c4e2-778d960aecbc"
      },
      "id": "JxdyN-SjyB5-",
      "execution_count": null,
      "outputs": [
        {
          "output_type": "stream",
          "name": "stdout",
          "text": [
            "[4, 5]\n"
          ]
        }
      ]
    },
    {
      "cell_type": "code",
      "source": [
        "##    Nested 'for' loop (for loop inside a conditional statement)\n",
        "num = int(input(\"number is \"))\n",
        "factorial = 1\n",
        "if num < 0:\n",
        "  print(\"must be postive\")\n",
        "elif num == 0:\n",
        "  print(\"factorial is 1\")\n",
        "else:\n",
        "  for i in range(1,num + 1):\n",
        "    factorial = factorial * i\n",
        "  print(\"factorial :\",factorial)"
      ],
      "metadata": {
        "colab": {
          "base_uri": "https://localhost:8080/"
        },
        "id": "xKYZDMB7yJTo",
        "outputId": "102826bf-6301-4a76-a2dc-6bfcd0bf7178"
      },
      "id": "xKYZDMB7yJTo",
      "execution_count": null,
      "outputs": [
        {
          "output_type": "stream",
          "name": "stdout",
          "text": [
            "number is 0\n",
            "factorial is 1\n"
          ]
        }
      ]
    },
    {
      "cell_type": "code",
      "source": [
        "#####     PASS #########\n",
        "##### execute without doing anything   #####\n",
        "NAME = [\"raki\",\"aksha\",\"sanjay\"]\n",
        "for i  in NAME:\n",
        "   pass\n"
      ],
      "metadata": {
        "id": "F6gWyVA14k71"
      },
      "id": "F6gWyVA14k71",
      "execution_count": null,
      "outputs": []
    },
    {
      "cell_type": "code",
      "source": [
        "##########     CONTINUE      ##########\n",
        "######   skip when condition is satisfied   #####\n",
        "NAME = [\"raki\",\"ram\",\"aksha\",\"sanjay\"]\n",
        "for i in NAME:\n",
        "  if len(i) == 3:\n",
        "    continue\n",
        "  print(\"My name is\",i)"
      ],
      "metadata": {
        "colab": {
          "base_uri": "https://localhost:8080/"
        },
        "id": "ELGv4RK55DZg",
        "outputId": "1daf742d-766b-4b7f-8907-f4f2fcd4db36"
      },
      "id": "ELGv4RK55DZg",
      "execution_count": null,
      "outputs": [
        {
          "output_type": "stream",
          "name": "stdout",
          "text": [
            "My name is raki\n",
            "My name is aksha\n",
            "My name is sanjay\n"
          ]
        }
      ]
    },
    {
      "cell_type": "code",
      "source": [
        "##########   BREAK ##########\n",
        "###  GET OUT OF LOOP WHEN CONDITION IS SATISFIED    ###\n",
        "NAME = [\"raki\",\"ram\",\"aksha\",\"sanjay\"]\n",
        "for i in NAME:\n",
        "  if len(i) == 3:\n",
        "    break\n",
        "  print(f\"My name is {i}\")\n"
      ],
      "metadata": {
        "colab": {
          "base_uri": "https://localhost:8080/"
        },
        "id": "lUFHvTAj5w_E",
        "outputId": "202cd5d6-e8d9-4497-aeb3-1946beee5edc"
      },
      "id": "lUFHvTAj5w_E",
      "execution_count": null,
      "outputs": [
        {
          "output_type": "stream",
          "name": "stdout",
          "text": [
            "My name is raki\n"
          ]
        }
      ]
    },
    {
      "cell_type": "code",
      "source": [
        "for i in range (1,10):\n",
        "  if i == 5:\n",
        "    break\n",
        "  print(i)\n",
        "print(\"Done\")"
      ],
      "metadata": {
        "colab": {
          "base_uri": "https://localhost:8080/"
        },
        "id": "nYEpOF9t7WP-",
        "outputId": "b512a593-c466-4e3c-80ba-8c529c8d05b6"
      },
      "id": "nYEpOF9t7WP-",
      "execution_count": null,
      "outputs": [
        {
          "output_type": "stream",
          "name": "stdout",
          "text": [
            "1\n",
            "2\n",
            "3\n",
            "4\n",
            "Done\n"
          ]
        }
      ]
    },
    {
      "cell_type": "code",
      "source": [
        "#######      For else    #####################\n",
        "#   if the else statement is used with a for loop, the else block is executed onlyif \"for\" loop terminates normally ( not by encountering the break statement)\n",
        "\n",
        "number = [1,3,5,7,9,11,33,87,45]\n",
        "for i in number:\n",
        "  if i % 2 == 0:\n",
        "    print(\"the list contains even numbers\")\n",
        "    break\n",
        "else:\n",
        "  print(\"this list doesnot contains even numbers\")\n"
      ],
      "metadata": {
        "colab": {
          "base_uri": "https://localhost:8080/"
        },
        "id": "9FfNbzNBTbEt",
        "outputId": "a1981170-1e28-45fb-dc6a-0cfdc038925d"
      },
      "id": "9FfNbzNBTbEt",
      "execution_count": null,
      "outputs": [
        {
          "output_type": "stream",
          "name": "stdout",
          "text": [
            "this list doesnot contains even numbers\n"
          ]
        }
      ]
    },
    {
      "cell_type": "code",
      "source": [
        "#####   enumerating the objects of a list with sequential numbers  #########\n",
        "NAME = [\"raki\",\"ram\",\"aksha\",\"sanjay\"]\n",
        "list(enumerate(NAME)) "
      ],
      "metadata": {
        "colab": {
          "base_uri": "https://localhost:8080/"
        },
        "id": "rQEfaGpOUlN_",
        "outputId": "831c7272-1acb-4add-9f0c-2436659b7786"
      },
      "id": "rQEfaGpOUlN_",
      "execution_count": null,
      "outputs": [
        {
          "output_type": "execute_result",
          "data": {
            "text/plain": [
              "[(0, 'raki'), (1, 'ram'), (2, 'aksha'), (3, 'sanjay')]"
            ]
          },
          "metadata": {},
          "execution_count": 2
        }
      ]
    },
    {
      "cell_type": "code",
      "source": [
        "NAME = [\"raki\",\"ram\",\"aksha\",\"sanjay\"]\n",
        "\n",
        "for i,j in enumerate(NAME):\n",
        "  print(\"Index is {0} and Value of index is{1}\".format (i,j))"
      ],
      "metadata": {
        "colab": {
          "base_uri": "https://localhost:8080/"
        },
        "id": "P1Sy1NyLVqVT",
        "outputId": "b351e4d7-4c5f-4cfe-c6e4-e3911e80d7bb"
      },
      "id": "P1Sy1NyLVqVT",
      "execution_count": null,
      "outputs": [
        {
          "output_type": "stream",
          "name": "stdout",
          "text": [
            "Index is 0 and Value of index israki\n",
            "Index is 1 and Value of index isram\n",
            "Index is 2 and Value of index isaksha\n",
            "Index is 3 and Value of index issanjay\n"
          ]
        }
      ]
    },
    {
      "cell_type": "code",
      "source": [
        "for i in range (1,25):\n",
        "  print(i)"
      ],
      "metadata": {
        "id": "pCKUvZp2Wb-J"
      },
      "id": "pCKUvZp2Wb-J",
      "execution_count": null,
      "outputs": []
    },
    {
      "cell_type": "code",
      "source": [
        " #############       While Loop    ################\n",
        "i = 0\n",
        "while i < 10 :\n",
        "  print(\" the number is\", i)\n",
        "  i+= 1\n"
      ],
      "metadata": {
        "colab": {
          "base_uri": "https://localhost:8080/"
        },
        "id": "bDrybS-5XaUf",
        "outputId": "810f8ae0-6fa5-4842-bfe2-9eeb5288a172"
      },
      "id": "bDrybS-5XaUf",
      "execution_count": null,
      "outputs": [
        {
          "output_type": "stream",
          "name": "stdout",
          "text": [
            " the number is 0\n",
            " the number is 1\n",
            " the number is 2\n",
            " the number is 3\n",
            " the number is 4\n",
            " the number is 5\n",
            " the number is 6\n",
            " the number is 7\n",
            " the number is 8\n",
            " the number is 9\n"
          ]
        }
      ]
    },
    {
      "cell_type": "code",
      "source": [
        "i = 0\n",
        "while i < 10 :\n",
        "  pass\n",
        " \n",
        "  i+= 1"
      ],
      "metadata": {
        "id": "09ODN8_eXyDB"
      },
      "id": "09ODN8_eXyDB",
      "execution_count": null,
      "outputs": []
    },
    {
      "cell_type": "code",
      "source": [
        "i = 0\n",
        "while i < 10 :\n",
        "  i+= 1\n",
        "  if  i == 5:\n",
        "    continue\n",
        "  print(\"The number is \",i)"
      ],
      "metadata": {
        "colab": {
          "base_uri": "https://localhost:8080/"
        },
        "id": "RuSREbYZYa93",
        "outputId": "da7c7b9e-648c-4005-f8a1-d0777ddf57f9"
      },
      "id": "RuSREbYZYa93",
      "execution_count": null,
      "outputs": [
        {
          "output_type": "stream",
          "name": "stdout",
          "text": [
            "The number is  1\n",
            "The number is  2\n",
            "The number is  3\n",
            "The number is  4\n",
            "The number is  6\n",
            "The number is  7\n",
            "The number is  8\n",
            "The number is  9\n",
            "The number is  10\n"
          ]
        }
      ]
    },
    {
      "cell_type": "code",
      "source": [
        "i = 0\n",
        "while i < 10 :\n",
        "  i+= 1\n",
        "  if  i == 5:\n",
        "    break\n",
        "  print(\"The number is \",i)"
      ],
      "metadata": {
        "colab": {
          "base_uri": "https://localhost:8080/"
        },
        "id": "HAlzM09JZBmF",
        "outputId": "1ee572a2-2af2-4657-ab6b-7d0270bc8f61"
      },
      "id": "HAlzM09JZBmF",
      "execution_count": null,
      "outputs": [
        {
          "output_type": "stream",
          "name": "stdout",
          "text": [
            "The number is  1\n",
            "The number is  2\n",
            "The number is  3\n",
            "The number is  4\n"
          ]
        }
      ]
    },
    {
      "cell_type": "code",
      "source": [
        "i = 0\n",
        "while i < 10:\n",
        "  print(\" the number is \",i)\n",
        "  i+=1\n",
        "else:\n",
        "  print(\"the loop has ended\")"
      ],
      "metadata": {
        "colab": {
          "base_uri": "https://localhost:8080/"
        },
        "id": "wSSITJ7hZoU7",
        "outputId": "3f9f6ff6-f53c-4386-8065-9d1c20e2a80b"
      },
      "id": "wSSITJ7hZoU7",
      "execution_count": null,
      "outputs": [
        {
          "output_type": "stream",
          "name": "stdout",
          "text": [
            " the number is  0\n",
            " the number is  1\n",
            " the number is  2\n",
            " the number is  3\n",
            " the number is  4\n",
            " the number is  5\n",
            " the number is  6\n",
            " the number is  7\n",
            " the number is  8\n",
            " the number is  9\n",
            "the loop has ended\n"
          ]
        }
      ]
    },
    {
      "cell_type": "code",
      "source": [
        "#########      NESTED LOOPS ##################\n",
        "# here we can use loop inside a loop one or morethan one times\n",
        "\n",
        "list1 = [[1,2,3,4],[5,6,7,8]]\n",
        "print(list1,\"\\n\")\n",
        "\n",
        "for i in list1:\n",
        "  for j in i:\n",
        "    print(f\"square of {j} is\",j**2)\n",
        "  print(\"\\n\")"
      ],
      "metadata": {
        "colab": {
          "base_uri": "https://localhost:8080/"
        },
        "id": "Wf6NO7N9bR08",
        "outputId": "10fbba4b-d577-4e2e-f89a-2b2250eb75b0"
      },
      "id": "Wf6NO7N9bR08",
      "execution_count": null,
      "outputs": [
        {
          "output_type": "stream",
          "name": "stdout",
          "text": [
            "[[1, 2, 3, 4], [5, 6, 7, 8]] \n",
            "\n",
            "square of 1 is 1\n",
            "square of 2 is 4\n",
            "square of 3 is 9\n",
            "square of 4 is 16\n",
            "\n",
            "\n",
            "square of 5 is 25\n",
            "square of 6 is 36\n",
            "square of 7 is 49\n",
            "square of 8 is 64\n",
            "\n",
            "\n"
          ]
        }
      ]
    },
    {
      "cell_type": "code",
      "source": [
        "### print triangular shaped star\n",
        "\n",
        "n = 6  # number of stars\n",
        "k = n+1  # number of spaces\n",
        "for i in range (0,n):\n",
        "  for j in range(0,k):\n",
        "    print(\" \", end = '')\n",
        "  k = k - 1       ####      reducing space after each loop\n",
        "  for j in range (0,i+1):    ####   taking new loop for printing '*'\n",
        "    print(\"* \", end = '')\n",
        "  print(\"\\r\")    # after completion of printing \"*\"   start again from the new line"
      ],
      "metadata": {
        "colab": {
          "base_uri": "https://localhost:8080/"
        },
        "id": "Do5ilz-Fl1_1",
        "outputId": "cbf682a2-578e-4ff6-d04c-dc72df0d6ae2"
      },
      "id": "Do5ilz-Fl1_1",
      "execution_count": null,
      "outputs": [
        {
          "output_type": "stream",
          "name": "stdout",
          "text": [
            "       * \r\n",
            "      * * \r\n",
            "     * * * \r\n",
            "    * * * * \r\n",
            "   * * * * * \r\n",
            "  * * * * * * \r\n"
          ]
        }
      ]
    },
    {
      "cell_type": "code",
      "source": [
        "###################        DEFINE FUNCTION        ########################\n",
        "print(\"Hello world\")"
      ],
      "metadata": {
        "colab": {
          "base_uri": "https://localhost:8080/"
        },
        "id": "S3-7EgV3oD-i",
        "outputId": "7f6770a5-c299-46e8-8544-0ec4b1a00b82"
      },
      "id": "S3-7EgV3oD-i",
      "execution_count": null,
      "outputs": [
        {
          "output_type": "stream",
          "name": "stdout",
          "text": [
            "Hello world\n"
          ]
        }
      ]
    },
    {
      "cell_type": "code",
      "source": [
        "def sayhello():\n",
        "  print(\"Hello world!\")   ###   block belonging to the function\n",
        "#    end of function    #\n",
        "sayhello()"
      ],
      "metadata": {
        "colab": {
          "base_uri": "https://localhost:8080/"
        },
        "id": "uqqnM-MQoUKL",
        "outputId": "03786941-5d55-4c47-b4a6-a9f729495a5c"
      },
      "id": "uqqnM-MQoUKL",
      "execution_count": null,
      "outputs": [
        {
          "output_type": "stream",
          "name": "stdout",
          "text": [
            "Hello world!\n"
          ]
        }
      ]
    },
    {
      "cell_type": "code",
      "source": [
        "##   not defined any value but defiend  the function\n",
        "def hell_func():\n",
        "  pass"
      ],
      "metadata": {
        "id": "nhnTjG_Yo3uR"
      },
      "id": "nhnTjG_Yo3uR",
      "execution_count": null,
      "outputs": []
    },
    {
      "cell_type": "code",
      "source": [
        "#####   simple function\n",
        "\n",
        "def hello(name,age,sal):\n",
        "  print(\"hi\",name, \"your age is \", age, \"your salary\",sal)\n",
        "hello(\"nikhil\",23,50000)"
      ],
      "metadata": {
        "colab": {
          "base_uri": "https://localhost:8080/"
        },
        "id": "Rg-X4_8UpMXc",
        "outputId": "3a35cc78-a47c-4c0e-9177-2de4fbc26d1d"
      },
      "id": "Rg-X4_8UpMXc",
      "execution_count": null,
      "outputs": [
        {
          "output_type": "stream",
          "name": "stdout",
          "text": [
            "hi nikhil your age is  23 your salary 50000\n"
          ]
        }
      ]
    },
    {
      "cell_type": "code",
      "source": [
        "#####     formal and actual arguments   ###########\n",
        "def add(a,b):\n",
        "  return a+b\n",
        "add(2,3)\n",
        "\n",
        "#  formal arguments are identifiers used in the function definition to represent corresponding actual arguments\n",
        "# actual arguments are values or variables /expressions that are used inside the paranthesis of a function call\n"
      ],
      "metadata": {
        "colab": {
          "base_uri": "https://localhost:8080/"
        },
        "id": "AQBzYYhYqPB4",
        "outputId": "7af938f9-f7e4-41f9-e11f-a736b3904847"
      },
      "id": "AQBzYYhYqPB4",
      "execution_count": null,
      "outputs": [
        {
          "output_type": "execute_result",
          "data": {
            "text/plain": [
              "5"
            ]
          },
          "metadata": {},
          "execution_count": 34
        }
      ]
    },
    {
      "cell_type": "code",
      "source": [
        ""
      ],
      "metadata": {
        "id": "GcfnpDUbrcPT"
      },
      "id": "GcfnpDUbrcPT",
      "execution_count": null,
      "outputs": []
    }
  ],
  "metadata": {
    "kernelspec": {
      "display_name": "Python 3 (ipykernel)",
      "language": "python",
      "name": "python3"
    },
    "language_info": {
      "codemirror_mode": {
        "name": "ipython",
        "version": 3
      },
      "file_extension": ".py",
      "mimetype": "text/x-python",
      "name": "python",
      "nbconvert_exporter": "python",
      "pygments_lexer": "ipython3",
      "version": "3.9.7"
    },
    "colab": {
      "name": "Python_ Jupyter class.ipynb",
      "provenance": [],
      "collapsed_sections": [],
      "include_colab_link": true
    }
  },
  "nbformat": 4,
  "nbformat_minor": 5
}